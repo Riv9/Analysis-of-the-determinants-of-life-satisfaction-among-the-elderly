{
 "cells": [
  {
   "cell_type": "code",
   "execution_count": 1,
   "metadata": {},
   "outputs": [],
   "source": [
    "import pandas as pd\n",
    "import numpy as np\n",
    "import datetime as dt\n",
    "import dataframe_image as dfi\n",
    "\n",
    "import seaborn as sns\n",
    "import statsmodels.api as sm\n",
    "import statsmodels.formula.api as smf\n",
    "import matplotlib.pyplot as plt"
   ]
  },
  {
   "cell_type": "code",
   "execution_count": 2,
   "metadata": {},
   "outputs": [
    {
     "data": {
      "text/html": [
       "<div>\n",
       "<style scoped>\n",
       "    .dataframe tbody tr th:only-of-type {\n",
       "        vertical-align: middle;\n",
       "    }\n",
       "\n",
       "    .dataframe tbody tr th {\n",
       "        vertical-align: top;\n",
       "    }\n",
       "\n",
       "    .dataframe thead th {\n",
       "        text-align: right;\n",
       "    }\n",
       "</style>\n",
       "<table border=\"1\" class=\"dataframe\">\n",
       "  <thead>\n",
       "    <tr style=\"text-align: right;\">\n",
       "      <th></th>\n",
       "      <th>mergeid</th>\n",
       "      <th>id</th>\n",
       "      <th>htype</th>\n",
       "      <th>nursinghome</th>\n",
       "      <th>otrf</th>\n",
       "      <th>single</th>\n",
       "      <th>fahc</th>\n",
       "      <th>fohc</th>\n",
       "      <th>hprf</th>\n",
       "      <th>thexp</th>\n",
       "      <th>...</th>\n",
       "      <th>esmoked</th>\n",
       "      <th>phinact</th>\n",
       "      <th>doctor</th>\n",
       "      <th>hospital</th>\n",
       "      <th>cjs</th>\n",
       "      <th>lifesat</th>\n",
       "      <th>year</th>\n",
       "      <th>hstatus</th>\n",
       "      <th>income</th>\n",
       "      <th>life_sat</th>\n",
       "    </tr>\n",
       "  </thead>\n",
       "  <tbody>\n",
       "    <tr>\n",
       "      <th>0</th>\n",
       "      <td>IT-668183-01</td>\n",
       "      <td>73877.0</td>\n",
       "      <td>3</td>\n",
       "      <td>0</td>\n",
       "      <td>5.0</td>\n",
       "      <td>0</td>\n",
       "      <td>8400.0</td>\n",
       "      <td>1200.0</td>\n",
       "      <td>360.0</td>\n",
       "      <td>10430.000000</td>\n",
       "      <td>...</td>\n",
       "      <td>0.0</td>\n",
       "      <td>0.0</td>\n",
       "      <td>2</td>\n",
       "      <td>0</td>\n",
       "      <td>1.0</td>\n",
       "      <td>9</td>\n",
       "      <td>2015.0</td>\n",
       "      <td>2.0</td>\n",
       "      <td>0.300000</td>\n",
       "      <td>1.0</td>\n",
       "    </tr>\n",
       "    <tr>\n",
       "      <th>1</th>\n",
       "      <td>IT-705543-01</td>\n",
       "      <td>74127.0</td>\n",
       "      <td>3</td>\n",
       "      <td>0</td>\n",
       "      <td>1.0</td>\n",
       "      <td>0</td>\n",
       "      <td>9600.0</td>\n",
       "      <td>1200.0</td>\n",
       "      <td>0.0</td>\n",
       "      <td>11200.000000</td>\n",
       "      <td>...</td>\n",
       "      <td>0.0</td>\n",
       "      <td>0.0</td>\n",
       "      <td>4</td>\n",
       "      <td>0</td>\n",
       "      <td>5.0</td>\n",
       "      <td>7</td>\n",
       "      <td>2015.0</td>\n",
       "      <td>2.0</td>\n",
       "      <td>0.180000</td>\n",
       "      <td>0.0</td>\n",
       "    </tr>\n",
       "    <tr>\n",
       "      <th>2</th>\n",
       "      <td>IT-901302-01</td>\n",
       "      <td>75514.0</td>\n",
       "      <td>3</td>\n",
       "      <td>0</td>\n",
       "      <td>1.0</td>\n",
       "      <td>0</td>\n",
       "      <td>6000.0</td>\n",
       "      <td>0.0</td>\n",
       "      <td>0.0</td>\n",
       "      <td>6316.000000</td>\n",
       "      <td>...</td>\n",
       "      <td>1.0</td>\n",
       "      <td>0.0</td>\n",
       "      <td>1</td>\n",
       "      <td>0</td>\n",
       "      <td>2.0</td>\n",
       "      <td>7</td>\n",
       "      <td>2013.0</td>\n",
       "      <td>3.0</td>\n",
       "      <td>0.065068</td>\n",
       "      <td>0.0</td>\n",
       "    </tr>\n",
       "    <tr>\n",
       "      <th>3</th>\n",
       "      <td>IT-804108-01</td>\n",
       "      <td>74831.0</td>\n",
       "      <td>3</td>\n",
       "      <td>0</td>\n",
       "      <td>1.0</td>\n",
       "      <td>0</td>\n",
       "      <td>8400.0</td>\n",
       "      <td>3600.0</td>\n",
       "      <td>0.0</td>\n",
       "      <td>17698.353241</td>\n",
       "      <td>...</td>\n",
       "      <td>0.0</td>\n",
       "      <td>0.0</td>\n",
       "      <td>1</td>\n",
       "      <td>0</td>\n",
       "      <td>1.0</td>\n",
       "      <td>8</td>\n",
       "      <td>2015.0</td>\n",
       "      <td>3.0</td>\n",
       "      <td>0.360000</td>\n",
       "      <td>1.0</td>\n",
       "    </tr>\n",
       "    <tr>\n",
       "      <th>4</th>\n",
       "      <td>IT-672423-01</td>\n",
       "      <td>73896.0</td>\n",
       "      <td>3</td>\n",
       "      <td>0</td>\n",
       "      <td>1.0</td>\n",
       "      <td>0</td>\n",
       "      <td>6000.0</td>\n",
       "      <td>240.0</td>\n",
       "      <td>0.0</td>\n",
       "      <td>6440.000000</td>\n",
       "      <td>...</td>\n",
       "      <td>0.0</td>\n",
       "      <td>0.0</td>\n",
       "      <td>0</td>\n",
       "      <td>0</td>\n",
       "      <td>1.0</td>\n",
       "      <td>7</td>\n",
       "      <td>2015.0</td>\n",
       "      <td>2.0</td>\n",
       "      <td>0.186000</td>\n",
       "      <td>0.0</td>\n",
       "    </tr>\n",
       "  </tbody>\n",
       "</table>\n",
       "<p>5 rows × 29 columns</p>\n",
       "</div>"
      ],
      "text/plain": [
       "        mergeid       id  htype  nursinghome  otrf  single    fahc    fohc  \\\n",
       "0  IT-668183-01  73877.0      3            0   5.0       0  8400.0  1200.0   \n",
       "1  IT-705543-01  74127.0      3            0   1.0       0  9600.0  1200.0   \n",
       "2  IT-901302-01  75514.0      3            0   1.0       0  6000.0     0.0   \n",
       "3  IT-804108-01  74831.0      3            0   1.0       0  8400.0  3600.0   \n",
       "4  IT-672423-01  73896.0      3            0   1.0       0  6000.0   240.0   \n",
       "\n",
       "    hprf         thexp  ...  esmoked  phinact  doctor  hospital  cjs  lifesat  \\\n",
       "0  360.0  10430.000000  ...      0.0      0.0       2         0  1.0        9   \n",
       "1    0.0  11200.000000  ...      0.0      0.0       4         0  5.0        7   \n",
       "2    0.0   6316.000000  ...      1.0      0.0       1         0  2.0        7   \n",
       "3    0.0  17698.353241  ...      0.0      0.0       1         0  1.0        8   \n",
       "4    0.0   6440.000000  ...      0.0      0.0       0         0  1.0        7   \n",
       "\n",
       "     year  hstatus    income  life_sat  \n",
       "0  2015.0      2.0  0.300000       1.0  \n",
       "1  2015.0      2.0  0.180000       0.0  \n",
       "2  2013.0      3.0  0.065068       0.0  \n",
       "3  2015.0      3.0  0.360000       1.0  \n",
       "4  2015.0      2.0  0.186000       0.0  \n",
       "\n",
       "[5 rows x 29 columns]"
      ]
     },
     "execution_count": 2,
     "metadata": {},
     "output_type": "execute_result"
    }
   ],
   "source": [
    "ps = pd.read_stata('/Users/virpa/Documents/UNIBO/LMEC_2°/Introduction to Python for Econometrics/Project/data.dta')\n",
    "ps.head()"
   ]
  },
  {
   "cell_type": "code",
   "execution_count": 3,
   "metadata": {},
   "outputs": [
    {
     "data": {
      "text/plain": [
       "Index(['mergeid', 'id', 'htype', 'nursinghome', 'otrf', 'single', 'fahc',\n",
       "       'fohc', 'hprf', 'thexp', 'hnetw', 'gender', 'age', 'yedu', 'mstat',\n",
       "       'nchild', 'ngrchild', 'gali', 'bmi', 'esmoked', 'phinact', 'doctor',\n",
       "       'hospital', 'cjs', 'lifesat', 'year', 'hstatus', 'income', 'life_sat'],\n",
       "      dtype='object')"
      ]
     },
     "execution_count": 3,
     "metadata": {},
     "output_type": "execute_result"
    }
   ],
   "source": [
    "ps.columns"
   ]
  },
  {
   "cell_type": "code",
   "execution_count": 4,
   "metadata": {},
   "outputs": [
    {
     "name": "stdout",
     "output_type": "stream",
     "text": [
      "The dataset has dimension (12292, 29)\n"
     ]
    }
   ],
   "source": [
    "print('The dataset has dimension', ps.shape)"
   ]
  },
  {
   "cell_type": "code",
   "execution_count": 5,
   "metadata": {},
   "outputs": [
    {
     "name": "stdout",
     "output_type": "stream",
     "text": [
      "NaN for each variable:\n",
      " mergeid         0\n",
      "id              0\n",
      "htype           0\n",
      "nursinghome     0\n",
      "otrf           48\n",
      "single          0\n",
      "fahc            0\n",
      "fohc            0\n",
      "hprf            0\n",
      "thexp           0\n",
      "hnetw           0\n",
      "gender          0\n",
      "age             0\n",
      "yedu            0\n",
      "mstat           0\n",
      "nchild          0\n",
      "ngrchild        0\n",
      "gali            0\n",
      "bmi             0\n",
      "esmoked         2\n",
      "phinact         2\n",
      "doctor          0\n",
      "hospital        0\n",
      "cjs            48\n",
      "lifesat         0\n",
      "year            0\n",
      "hstatus         0\n",
      "income          0\n",
      "life_sat        0\n",
      "dtype: int64\n",
      "\n",
      " Total Nan 100\n"
     ]
    }
   ],
   "source": [
    "print('NaN for each variable:\\n', ps.isna().sum(axis=0))\n",
    "print('\\n Total Nan', ps.isna().sum(axis=0).sum())\n",
    "\n",
    "ps = ps.dropna(subset=['life_sat','income', 'year', 'age', 'gender', 'mstat', 'hstatus', 'gali', 'otrf', 'bmi', 'cjs'], how='any') "
   ]
  },
  {
   "cell_type": "code",
   "execution_count": 6,
   "metadata": {},
   "outputs": [
    {
     "name": "stdout",
     "output_type": "stream",
     "text": [
      "The dataset without null values has shape (12244, 29)\n"
     ]
    }
   ],
   "source": [
    "print('The dataset without null values has shape', ps.shape)"
   ]
  },
  {
   "cell_type": "markdown",
   "metadata": {},
   "source": [
    "## Principal Component Analysis"
   ]
  },
  {
   "cell_type": "code",
   "execution_count": 7,
   "metadata": {},
   "outputs": [],
   "source": [
    "from statsmodels.multivariate.pca import PCA\n",
    "from pylab import *"
   ]
  },
  {
   "cell_type": "code",
   "execution_count": 8,
   "metadata": {},
   "outputs": [
    {
     "name": "stdout",
     "output_type": "stream",
     "text": [
      "Before applying some regressions, we can compute exploratory analysis to better understand the continuous variables.\n"
     ]
    }
   ],
   "source": [
    "print('Before applying some regressions, we can compute exploratory analysis to better understand the continuous variables.')\n",
    "\n",
    "ps3 = ps.loc[:,['life_sat', 'fahc','hprf', 'thexp','hnetw','age','yedu', 'bmi','hstatus','income' ]] "
   ]
  },
  {
   "cell_type": "code",
   "execution_count": 9,
   "metadata": {},
   "outputs": [
    {
     "name": "stdout",
     "output_type": "stream",
     "text": [
      "We define the dependent variable to predict, i.e. life satisfaction, and the independent continuous variables.\n"
     ]
    }
   ],
   "source": [
    "print('We define the dependent variable to predict, i.e. life satisfaction, and the independent continuous variables.')\n",
    "\n",
    "xvar = ps3[['fahc','hprf', 'thexp','hnetw','age','yedu', 'bmi','income']]\n",
    "yvar = ps3['life_sat']"
   ]
  },
  {
   "cell_type": "code",
   "execution_count": 10,
   "metadata": {},
   "outputs": [
    {
     "name": "stdout",
     "output_type": "stream",
     "text": [
      "The correlation matrix shows most of the values around zero for the majority of the variables.\n"
     ]
    },
    {
     "data": {
      "image/png": "[encoded data removed]",
      "text/plain": [
       "<Figure size 432x288 with 2 Axes>"
      ]
     },
     "metadata": {
      "needs_background": "light"
     },
     "output_type": "display_data"
    }
   ],
   "source": [
    "print('The correlation matrix shows most of the values around zero for the majority of the variables.')\n",
    "\n",
    "xvarplot = sns.heatmap(xvar.corr(), cmap=\"YlGnBu\", annot=True);\n",
    "plt.show;"
   ]
  },
  {
   "cell_type": "code",
   "execution_count": 11,
   "metadata": {},
   "outputs": [
    {
     "name": "stdout",
     "output_type": "stream",
     "text": [
      "We apply the analysis to the correlation matrix since the variables have different magnitude.\n"
     ]
    }
   ],
   "source": [
    "print('We apply the analysis to the correlation matrix since the variables have different magnitude.')\n",
    "\n",
    "pca_mod = PCA(xvar, standardize=True, missing='fill-em')"
   ]
  },
  {
   "cell_type": "code",
   "execution_count": 12,
   "metadata": {},
   "outputs": [
    {
     "name": "stdout",
     "output_type": "stream",
     "text": [
      "Following the scree plot we select three components.\n"
     ]
    },
    {
     "data": {
      "image/png": "[encoded data removed]",
      "text/plain": [
       "<Figure size 432x288 with 1 Axes>"
      ]
     },
     "metadata": {
      "needs_background": "light"
     },
     "output_type": "display_data"
    }
   ],
   "source": [
    "print('Following the scree plot we select three components.')\n",
    "\n",
    "figsize=(15, 12)\n",
    "fig = pca_mod.plot_scree(log_scale=False)\n",
    "fig.savefig('scree_plot')"
   ]
  },
  {
   "cell_type": "code",
   "execution_count": 13,
   "metadata": {},
   "outputs": [
    {
     "name": "stdout",
     "output_type": "stream",
     "text": [
      "The loadings of the variables tell us theirs weight on the component.\n"
     ]
    },
    {
     "data": {
      "text/html": [
       "<div>\n",
       "<style scoped>\n",
       "    .dataframe tbody tr th:only-of-type {\n",
       "        vertical-align: middle;\n",
       "    }\n",
       "\n",
       "    .dataframe tbody tr th {\n",
       "        vertical-align: top;\n",
       "    }\n",
       "\n",
       "    .dataframe thead th {\n",
       "        text-align: right;\n",
       "    }\n",
       "</style>\n",
       "<table border=\"1\" class=\"dataframe\">\n",
       "  <thead>\n",
       "    <tr style=\"text-align: right;\">\n",
       "      <th></th>\n",
       "      <th>comp_0</th>\n",
       "      <th>comp_1</th>\n",
       "      <th>comp_2</th>\n",
       "    </tr>\n",
       "  </thead>\n",
       "  <tbody>\n",
       "    <tr>\n",
       "      <th>fahc</th>\n",
       "      <td>-0.534008</td>\n",
       "      <td>0.283135</td>\n",
       "      <td>0.211429</td>\n",
       "    </tr>\n",
       "    <tr>\n",
       "      <th>hprf</th>\n",
       "      <td>-0.058106</td>\n",
       "      <td>0.514289</td>\n",
       "      <td>-0.429427</td>\n",
       "    </tr>\n",
       "    <tr>\n",
       "      <th>thexp</th>\n",
       "      <td>-0.509411</td>\n",
       "      <td>0.434916</td>\n",
       "      <td>0.183523</td>\n",
       "    </tr>\n",
       "    <tr>\n",
       "      <th>hnetw</th>\n",
       "      <td>-0.280006</td>\n",
       "      <td>-0.086682</td>\n",
       "      <td>-0.681530</td>\n",
       "    </tr>\n",
       "    <tr>\n",
       "      <th>age</th>\n",
       "      <td>0.361821</td>\n",
       "      <td>0.349411</td>\n",
       "      <td>-0.304622</td>\n",
       "    </tr>\n",
       "    <tr>\n",
       "      <th>yedu</th>\n",
       "      <td>-0.419973</td>\n",
       "      <td>-0.471630</td>\n",
       "      <td>-0.002996</td>\n",
       "    </tr>\n",
       "    <tr>\n",
       "      <th>bmi</th>\n",
       "      <td>0.101380</td>\n",
       "      <td>0.326241</td>\n",
       "      <td>0.312363</td>\n",
       "    </tr>\n",
       "    <tr>\n",
       "      <th>income</th>\n",
       "      <td>-0.236614</td>\n",
       "      <td>-0.087860</td>\n",
       "      <td>-0.286971</td>\n",
       "    </tr>\n",
       "  </tbody>\n",
       "</table>\n",
       "</div>"
      ],
      "text/plain": [
       "          comp_0    comp_1    comp_2\n",
       "fahc   -0.534008  0.283135  0.211429\n",
       "hprf   -0.058106  0.514289 -0.429427\n",
       "thexp  -0.509411  0.434916  0.183523\n",
       "hnetw  -0.280006 -0.086682 -0.681530\n",
       "age     0.361821  0.349411 -0.304622\n",
       "yedu   -0.419973 -0.471630 -0.002996\n",
       "bmi     0.101380  0.326241  0.312363\n",
       "income -0.236614 -0.087860 -0.286971"
      ]
     },
     "execution_count": 13,
     "metadata": {},
     "output_type": "execute_result"
    }
   ],
   "source": [
    "print('The loadings of the variables tell us theirs weight on the component.')\n",
    "\n",
    "pca_mod.loadings.iloc[:,0:3]"
   ]
  },
  {
   "cell_type": "code",
   "execution_count": 14,
   "metadata": {},
   "outputs": [
    {
     "name": "stdout",
     "output_type": "stream",
     "text": [
      "The scores for the first six observations:\n"
     ]
    },
    {
     "data": {
      "text/html": [
       "<div>\n",
       "<style scoped>\n",
       "    .dataframe tbody tr th:only-of-type {\n",
       "        vertical-align: middle;\n",
       "    }\n",
       "\n",
       "    .dataframe tbody tr th {\n",
       "        vertical-align: top;\n",
       "    }\n",
       "\n",
       "    .dataframe thead th {\n",
       "        text-align: right;\n",
       "    }\n",
       "</style>\n",
       "<table border=\"1\" class=\"dataframe\">\n",
       "  <thead>\n",
       "    <tr style=\"text-align: right;\">\n",
       "      <th></th>\n",
       "      <th>comp_0</th>\n",
       "      <th>comp_1</th>\n",
       "      <th>comp_2</th>\n",
       "    </tr>\n",
       "  </thead>\n",
       "  <tbody>\n",
       "    <tr>\n",
       "      <th>0</th>\n",
       "      <td>-0.003308</td>\n",
       "      <td>0.005790</td>\n",
       "      <td>0.008398</td>\n",
       "    </tr>\n",
       "    <tr>\n",
       "      <th>1</th>\n",
       "      <td>-0.009056</td>\n",
       "      <td>0.004020</td>\n",
       "      <td>0.004141</td>\n",
       "    </tr>\n",
       "    <tr>\n",
       "      <th>2</th>\n",
       "      <td>0.000816</td>\n",
       "      <td>-0.005275</td>\n",
       "      <td>0.004236</td>\n",
       "    </tr>\n",
       "    <tr>\n",
       "      <th>3</th>\n",
       "      <td>-0.017940</td>\n",
       "      <td>-0.002030</td>\n",
       "      <td>0.008179</td>\n",
       "    </tr>\n",
       "    <tr>\n",
       "      <th>4</th>\n",
       "      <td>0.007005</td>\n",
       "      <td>0.005312</td>\n",
       "      <td>0.003467</td>\n",
       "    </tr>\n",
       "    <tr>\n",
       "      <th>5</th>\n",
       "      <td>0.001875</td>\n",
       "      <td>0.012370</td>\n",
       "      <td>-0.009376</td>\n",
       "    </tr>\n",
       "  </tbody>\n",
       "</table>\n",
       "</div>"
      ],
      "text/plain": [
       "     comp_0    comp_1    comp_2\n",
       "0 -0.003308  0.005790  0.008398\n",
       "1 -0.009056  0.004020  0.004141\n",
       "2  0.000816 -0.005275  0.004236\n",
       "3 -0.017940 -0.002030  0.008179\n",
       "4  0.007005  0.005312  0.003467\n",
       "5  0.001875  0.012370 -0.009376"
      ]
     },
     "execution_count": 14,
     "metadata": {},
     "output_type": "execute_result"
    }
   ],
   "source": [
    "print('The scores for the first six observations:')\n",
    "\n",
    "pca_mod.scores.iloc[:6,0:3]"
   ]
  },
  {
   "cell_type": "code",
   "execution_count": 15,
   "metadata": {},
   "outputs": [
    {
     "name": "stdout",
     "output_type": "stream",
     "text": [
      "We create two datasets to contain the scores and the loadings.\n"
     ]
    }
   ],
   "source": [
    "print('We create two datasets to contain the scores and the loadings.')\n",
    "\n",
    "ncomp = 3\n",
    "comp_scores = pca_mod.scores.iloc[:,0:ncomp]\n",
    "comp_loadings = pca_mod.loadings.iloc[:,0:ncomp]"
   ]
  },
  {
   "cell_type": "code",
   "execution_count": 16,
   "metadata": {
    "scrolled": true
   },
   "outputs": [
    {
     "name": "stdout",
     "output_type": "stream",
     "text": [
      "We plot the loadings of the first two components\n"
     ]
    },
    {
     "data": {
      "image/png": "[encoded data removed]",
      "text/plain": [
       "<Figure size 720x432 with 1 Axes>"
      ]
     },
     "metadata": {
      "needs_background": "light"
     },
     "output_type": "display_data"
    }
   ],
   "source": [
    "print('We plot the loadings of the first two components')\n",
    "\n",
    "plt.figure(figsize=(10, 6))\n",
    "plt.scatter(comp_loadings['comp_0'], comp_loadings['comp_1']);\n",
    "plt.title('Scatter of loadings of the first two components',fontsize=10, fontweight='bold');\n",
    "plt.xlabel(\"PC 0\");\n",
    "plt.ylabel(\"PC 1\");\n",
    "plt.text(x=(comp_loadings['comp_0'][0]+0.01), y=(comp_loadings['comp_1'][0]+0.01), s='fahc'); \n",
    "plt.text(x=(comp_loadings['comp_0'][1]+0.01), y=(comp_loadings['comp_1'][1]+0.01), s='hprf');\n",
    "plt.text(x=(comp_loadings['comp_0'][2]+0.01), y=(comp_loadings['comp_1'][2]+0.01), s='thexp');\n",
    "plt.text(x=(comp_loadings['comp_0'][3]-0.05), y=(comp_loadings['comp_1'][3]+0.01), s='hnetw');\n",
    "plt.text(x=(comp_loadings['comp_0'][4]+0.01), y=(comp_loadings['comp_1'][4]+0.01), s='age');\n",
    "plt.text(x=(comp_loadings['comp_0'][5]+0.01), y=(comp_loadings['comp_1'][5]+0.01), s='yedu');\n",
    "plt.text(x=(comp_loadings['comp_0'][6]+0.01), y=(comp_loadings['comp_1'][6]+0.01), s='bmi');\n",
    "plt.text(x=(comp_loadings['comp_0'][7]+0.01), y=(comp_loadings['comp_1'][7]+0.01), s='income');"
   ]
  },
  {
   "cell_type": "code",
   "execution_count": 17,
   "metadata": {},
   "outputs": [
    {
     "name": "stdout",
     "output_type": "stream",
     "text": [
      "We plot the loadings of the second and third component\n"
     ]
    },
    {
     "data": {
      "image/png": "[encoded data removed]",
      "text/plain": [
       "<Figure size 720x432 with 1 Axes>"
      ]
     },
     "metadata": {
      "needs_background": "light"
     },
     "output_type": "display_data"
    }
   ],
   "source": [
    "print('We plot the loadings of the second and third component')\n",
    "\n",
    "plt.figure(figsize=(10, 6))\n",
    "plt.scatter(comp_loadings['comp_1'], comp_loadings['comp_2']);\n",
    "plt.title('Scatter of loadings of the second and third components',fontsize=10, fontweight='bold');\n",
    "plt.xlabel(\"PC 1\");\n",
    "plt.ylabel(\"PC 2\");\n",
    "plt.text(x=(comp_loadings['comp_1'][0]+0.01), y=(comp_loadings['comp_2'][0]+0.01), s='fahc');\n",
    "plt.text(x=(comp_loadings['comp_1'][1]+0.01), y=(comp_loadings['comp_2'][1]+0.01), s='hprf');\n",
    "plt.text(x=(comp_loadings['comp_1'][2]+0.01), y=(comp_loadings['comp_2'][2]+0.01), s='thexp');\n",
    "plt.text(x=(comp_loadings['comp_1'][3]-0.05), y=(comp_loadings['comp_2'][3]+0.01), s='hnetw');\n",
    "plt.text(x=(comp_loadings['comp_1'][4]+0.01), y=(comp_loadings['comp_2'][4]+0.01), s='age');\n",
    "plt.text(x=(comp_loadings['comp_1'][5]+0.01), y=(comp_loadings['comp_2'][5]+0.01), s='yedu');\n",
    "plt.text(x=(comp_loadings['comp_1'][6]+0.01), y=(comp_loadings['comp_2'][6]+0.01), s='bmi');\n",
    "plt.text(x=(comp_loadings['comp_1'][7]+0.01), y=(comp_loadings['comp_2'][7]+0.01), s='income');"
   ]
  },
  {
   "cell_type": "code",
   "execution_count": 18,
   "metadata": {},
   "outputs": [
    {
     "data": {
      "image/png": "[encoded data removed]",
      "text/plain": [
       "<Figure size 576x576 with 2 Axes>"
      ]
     },
     "metadata": {
      "needs_background": "light"
     },
     "output_type": "display_data"
    }
   ],
   "source": [
    "fig, axs = plt.subplots(2, figsize=(8, 8)) \n",
    "fig.suptitle('Loadings of the three components')\n",
    "axs[0].scatter(comp_loadings['comp_0'], comp_loadings['comp_1']);\n",
    "axs[0].set_ylabel('PC 1')\n",
    "axs[0].text(x=(comp_loadings['comp_0'][0]+0.01), y=(comp_loadings['comp_1'][0]+0.01), s='fahc');\n",
    "axs[0].text(x=(comp_loadings['comp_0'][1]+0.01), y=(comp_loadings['comp_1'][1]+0.01), s='hprf');\n",
    "axs[0].text(x=(comp_loadings['comp_0'][2]+0.01), y=(comp_loadings['comp_1'][2]+0.01), s='thexp');\n",
    "axs[0].text(x=(comp_loadings['comp_0'][3]-0.05), y=(comp_loadings['comp_1'][3]+0.03), s='hnetw');\n",
    "axs[0].text(x=(comp_loadings['comp_0'][4]), y=(comp_loadings['comp_1'][4]+0.03), s='age');\n",
    "axs[0].text(x=(comp_loadings['comp_0'][5]+0.01), y=(comp_loadings['comp_1'][5]+0.01), s='yedu');\n",
    "axs[0].text(x=(comp_loadings['comp_0'][6]+0.01), y=(comp_loadings['comp_1'][6]+0.01), s='bmi');\n",
    "axs[0].text(x=(comp_loadings['comp_0'][7]+0.01), y=(comp_loadings['comp_1'][7]+0.01), s='income');\n",
    "\n",
    "axs[1].scatter(comp_loadings['comp_0'], comp_loadings['comp_2']);\n",
    "axs[1].set_xlabel('PC 0');\n",
    "axs[1].set_ylabel('PC 2');\n",
    "axs[1].text(x=(comp_loadings['comp_0'][0]+0.01), y=(comp_loadings['comp_2'][0]+0.03), s='fahc');\n",
    "axs[1].text(x=(comp_loadings['comp_0'][1]+0.01), y=(comp_loadings['comp_2'][1]+0.01), s='hprf');\n",
    "axs[1].text(x=(comp_loadings['comp_0'][2]+0.01), y=(comp_loadings['comp_2'][2]-0.03), s='thexp');\n",
    "axs[1].text(x=(comp_loadings['comp_0'][3]-0.05), y=(comp_loadings['comp_2'][3]+0.03), s='hnetw');\n",
    "axs[1].text(x=(comp_loadings['comp_0'][4]), y=(comp_loadings['comp_2'][4]+0.03), s='age');\n",
    "axs[1].text(x=(comp_loadings['comp_0'][5]+0.01), y=(comp_loadings['comp_2'][5]+0.01), s='yedu');\n",
    "axs[1].text(x=(comp_loadings['comp_0'][6]+0.02), y=(comp_loadings['comp_2'][6]), s='bmi');\n",
    "axs[1].text(x=(comp_loadings['comp_0'][7]+0.01), y=(comp_loadings['comp_2'][7]+0.01), s='income');\n",
    "\n",
    "fig.savefig('loadings')"
   ]
  },
  {
   "cell_type": "code",
   "execution_count": 19,
   "metadata": {},
   "outputs": [
    {
     "name": "stdout",
     "output_type": "stream",
     "text": [
      "We plot the scores for the first two components\n"
     ]
    },
    {
     "data": {
      "image/png": "[encoded data removed]",
      "text/plain": [
       "<Figure size 432x288 with 1 Axes>"
      ]
     },
     "metadata": {
      "needs_background": "light"
     },
     "output_type": "display_data"
    }
   ],
   "source": [
    "print('We plot the scores for the first two components')\n",
    "\n",
    "plt.scatter(comp_scores['comp_0'],comp_scores['comp_1'], marker='.', c=yvar);\n",
    "plt.title('Scatter of scores of the first two components',fontsize=14, fontweight='bold');\n",
    "plt.xlabel(\"Scores 0\");\n",
    "plt.ylabel(\"Scores 1\");"
   ]
  },
  {
   "cell_type": "code",
   "execution_count": 20,
   "metadata": {},
   "outputs": [
    {
     "name": "stdout",
     "output_type": "stream",
     "text": [
      "We plot the scores for the second and third component\n"
     ]
    },
    {
     "data": {
      "image/png": "[encoded data removed]",
      "text/plain": [
       "<Figure size 432x288 with 1 Axes>"
      ]
     },
     "metadata": {
      "needs_background": "light"
     },
     "output_type": "display_data"
    }
   ],
   "source": [
    "print('We plot the scores for the second and third component')\n",
    "\n",
    "plt.scatter(comp_scores['comp_1'],comp_scores['comp_2'], marker='.', c=yvar);\n",
    "plt.title('Scatter of scores of the second and third components',fontsize=14, fontweight='bold');\n",
    "plt.xlabel(\"Scores 1\");\n",
    "plt.ylabel(\"Scores 2\");"
   ]
  },
  {
   "cell_type": "code",
   "execution_count": 21,
   "metadata": {},
   "outputs": [
    {
     "data": {
      "image/png": "[encoded data removed]",
      "text/plain": [
       "<Figure size 576x576 with 2 Axes>"
      ]
     },
     "metadata": {
      "needs_background": "light"
     },
     "output_type": "display_data"
    }
   ],
   "source": [
    "fig2, axs2 = plt.subplots(2, figsize=(8, 8)) \n",
    "fig2.suptitle('Scores of the three components')\n",
    "axs2[0].scatter(comp_scores['comp_0'],comp_scores['comp_1'],marker='.', c=yvar);\n",
    "axs2[0].set_ylabel('Scores 1')\n",
    "\n",
    "axs2[1].scatter(comp_scores['comp_0'], comp_scores['comp_2'], marker='.', c=yvar);\n",
    "axs2[1].set_xlabel('Scores 0');\n",
    "axs2[1].set_ylabel('Scores 2');\n",
    "\n",
    "fig2.savefig('scores')"
   ]
  },
  {
   "cell_type": "markdown",
   "metadata": {},
   "source": [
    "##  Discriminant Analysis"
   ]
  },
  {
   "cell_type": "code",
   "execution_count": 22,
   "metadata": {},
   "outputs": [],
   "source": [
    "from sklearn.model_selection import train_test_split\n",
    "from sklearn.preprocessing import StandardScaler\n",
    "from sklearn.discriminant_analysis import LinearDiscriminantAnalysis \n",
    "from sklearn.linear_model import LogisticRegression\n",
    "from sklearn.metrics import confusion_matrix, accuracy_score\n",
    "from matplotlib.colors import ListedColormap\n",
    "from sklearn import preprocessing\n",
    "from sklearn.preprocessing import StandardScaler\n",
    "import matplotlib.pyplot as plt"
   ]
  },
  {
   "cell_type": "code",
   "execution_count": 23,
   "metadata": {},
   "outputs": [
    {
     "name": "stdout",
     "output_type": "stream",
     "text": [
      "Since the dependent variables have very different magnitude, we standardise them before applying the analysis\n"
     ]
    }
   ],
   "source": [
    "print('Since the dependent variables have very different magnitude, we standardise them before applying the analysis')\n",
    "\n",
    "scaler = preprocessing.StandardScaler().fit(xvar)\n",
    "xvar_scaled = scaler.transform(xvar)"
   ]
  },
  {
   "cell_type": "code",
   "execution_count": 24,
   "metadata": {},
   "outputs": [
    {
     "name": "stdout",
     "output_type": "stream",
     "text": [
      "We now apply the Linear Discriminant Analysis with one component\n"
     ]
    }
   ],
   "source": [
    "print('We now apply the Linear Discriminant Analysis with one component')\n",
    "\n",
    "lda = LinearDiscriminantAnalysis(n_components=1)\n",
    "xvar_lda = lda.fit(xvar_scaled, yvar).transform(xvar_scaled) "
   ]
  },
  {
   "cell_type": "code",
   "execution_count": 25,
   "metadata": {},
   "outputs": [
    {
     "name": "stdout",
     "output_type": "stream",
     "text": [
      "We can consider also the boxplot to understand how well the component discriminates:\n"
     ]
    },
    {
     "data": {
      "image/png": "[encoded data removed]",
      "text/plain": [
       "<Figure size 864x576 with 1 Axes>"
      ]
     },
     "metadata": {},
     "output_type": "display_data"
    }
   ],
   "source": [
    "print('We can consider also the boxplot to understand how well the component discriminates:')\n",
    "\n",
    "df_lda = pd.DataFrame(zip(xvar_lda[:,0],yvar),columns=[\"ld1\",\"class\"])\n",
    "sns.set(rc={'figure.figsize':(12,8)}) \n",
    "plt.subplot(2,1,1)\n",
    "sns.boxplot(x='class', y='ld1', data=df_lda).set(title='Boxplot of the two classes'); \n",
    "plt.savefig('box')"
   ]
  },
  {
   "cell_type": "code",
   "execution_count": 26,
   "metadata": {},
   "outputs": [
    {
     "name": "stdout",
     "output_type": "stream",
     "text": [
      "To evaluate our method, we apply the cross-validation criterion\n"
     ]
    }
   ],
   "source": [
    "print('To evaluate our method, we apply the cross-validation criterion')\n",
    "\n",
    "x_train, x_test, y_train, y_test = train_test_split(xvar_scaled, yvar , test_size = 0.3, random_state = 0)"
   ]
  },
  {
   "cell_type": "code",
   "execution_count": 27,
   "metadata": {},
   "outputs": [
    {
     "name": "stdout",
     "output_type": "stream",
     "text": [
      "We obtain the two set predicted with the Discriminant Analysis\n"
     ]
    }
   ],
   "source": [
    "print('We obtain the two set predicted with the Discriminant Analysis')\n",
    "\n",
    "x_train = lda.fit_transform(x_train, y_train)\n",
    "x_test = lda.transform(x_test)"
   ]
  },
  {
   "cell_type": "code",
   "execution_count": 28,
   "metadata": {},
   "outputs": [
    {
     "name": "stdout",
     "output_type": "stream",
     "text": [
      "To classify our sets, we apply the Logistic Classification\n"
     ]
    },
    {
     "data": {
      "text/plain": [
       "LogisticRegression(random_state=0)"
      ]
     },
     "execution_count": 28,
     "metadata": {},
     "output_type": "execute_result"
    }
   ],
   "source": [
    "print('To classify our sets, we apply the Logistic Classification')\n",
    "\n",
    "classifier = LogisticRegression(random_state = 0)\n",
    "classifier.fit(x_train, y_train)"
   ]
  },
  {
   "cell_type": "code",
   "execution_count": 29,
   "metadata": {},
   "outputs": [
    {
     "name": "stdout",
     "output_type": "stream",
     "text": [
      "The model fits our set and predict the values\n"
     ]
    }
   ],
   "source": [
    "print('The model fits our set and predict the values')\n",
    "\n",
    "y_pred = classifier.predict(x_test)"
   ]
  },
  {
   "cell_type": "code",
   "execution_count": 30,
   "metadata": {},
   "outputs": [
    {
     "name": "stdout",
     "output_type": "stream",
     "text": [
      "In our sample we predicted that 2774 people are satisfied, whereas 900 people are not.\n"
     ]
    }
   ],
   "source": [
    "non_sat = y_pred[y_pred == 0]\n",
    "sat = y_pred[y_pred == 1]\n",
    "\n",
    "print('In our sample we predicted that', len(sat), 'people are satisfied, whereas', len(non_sat), 'people are not.')"
   ]
  },
  {
   "cell_type": "code",
   "execution_count": 31,
   "metadata": {},
   "outputs": [
    {
     "name": "stdout",
     "output_type": "stream",
     "text": [
      "Finally, we can compute the confusion matrix:\n",
      "[[ 518  991]\n",
      " [ 382 1783]]\n"
     ]
    }
   ],
   "source": [
    "print('Finally, we can compute the confusion matrix:')\n",
    "\n",
    "cm = confusion_matrix(y_test, y_pred)\n",
    "print(cm)"
   ]
  },
  {
   "cell_type": "code",
   "execution_count": 32,
   "metadata": {},
   "outputs": [
    {
     "name": "stdout",
     "output_type": "stream",
     "text": [
      "The accuracy is 63 %, whereas the misclassification rate is 37 %.\n"
     ]
    }
   ],
   "source": [
    "accuracy = round(accuracy_score(y_test,y_pred)*100)\n",
    "misrate = round((1-accuracy_score(y_test,y_pred))*100)\n",
    "\n",
    "print ('The accuracy is', accuracy,'%, whereas the misclassification rate is', misrate,'%.')"
   ]
  },
  {
   "cell_type": "markdown",
   "metadata": {},
   "source": [
    "## Dataset cleaning"
   ]
  },
  {
   "cell_type": "code",
   "execution_count": 33,
   "metadata": {},
   "outputs": [
    {
     "name": "stdout",
     "output_type": "stream",
     "text": [
      "We select our main variables for the regression analysis:\n"
     ]
    },
    {
     "data": {
      "text/html": [
       "<div>\n",
       "<style scoped>\n",
       "    .dataframe tbody tr th:only-of-type {\n",
       "        vertical-align: middle;\n",
       "    }\n",
       "\n",
       "    .dataframe tbody tr th {\n",
       "        vertical-align: top;\n",
       "    }\n",
       "\n",
       "    .dataframe thead th {\n",
       "        text-align: right;\n",
       "    }\n",
       "</style>\n",
       "<table border=\"1\" class=\"dataframe\">\n",
       "  <thead>\n",
       "    <tr style=\"text-align: right;\">\n",
       "      <th></th>\n",
       "      <th>life_sat</th>\n",
       "      <th>income</th>\n",
       "      <th>year</th>\n",
       "      <th>age</th>\n",
       "      <th>gender</th>\n",
       "      <th>yedu</th>\n",
       "      <th>mstat</th>\n",
       "      <th>hstatus</th>\n",
       "      <th>gali</th>\n",
       "      <th>otrf</th>\n",
       "      <th>bmi</th>\n",
       "      <th>cjs</th>\n",
       "    </tr>\n",
       "  </thead>\n",
       "  <tbody>\n",
       "    <tr>\n",
       "      <th>0</th>\n",
       "      <td>1.0</td>\n",
       "      <td>0.300000</td>\n",
       "      <td>2015.0</td>\n",
       "      <td>74</td>\n",
       "      <td>1</td>\n",
       "      <td>11.0</td>\n",
       "      <td>5</td>\n",
       "      <td>2.0</td>\n",
       "      <td>1</td>\n",
       "      <td>5.0</td>\n",
       "      <td>28.405338</td>\n",
       "      <td>1.0</td>\n",
       "    </tr>\n",
       "    <tr>\n",
       "      <th>1</th>\n",
       "      <td>0.0</td>\n",
       "      <td>0.180000</td>\n",
       "      <td>2015.0</td>\n",
       "      <td>62</td>\n",
       "      <td>2</td>\n",
       "      <td>8.0</td>\n",
       "      <td>1</td>\n",
       "      <td>2.0</td>\n",
       "      <td>0</td>\n",
       "      <td>1.0</td>\n",
       "      <td>27.548209</td>\n",
       "      <td>5.0</td>\n",
       "    </tr>\n",
       "    <tr>\n",
       "      <th>2</th>\n",
       "      <td>0.0</td>\n",
       "      <td>0.065068</td>\n",
       "      <td>2013.0</td>\n",
       "      <td>60</td>\n",
       "      <td>1</td>\n",
       "      <td>8.0</td>\n",
       "      <td>1</td>\n",
       "      <td>3.0</td>\n",
       "      <td>0</td>\n",
       "      <td>1.0</td>\n",
       "      <td>23.629490</td>\n",
       "      <td>2.0</td>\n",
       "    </tr>\n",
       "    <tr>\n",
       "      <th>3</th>\n",
       "      <td>1.0</td>\n",
       "      <td>0.360000</td>\n",
       "      <td>2015.0</td>\n",
       "      <td>65</td>\n",
       "      <td>1</td>\n",
       "      <td>20.0</td>\n",
       "      <td>1</td>\n",
       "      <td>3.0</td>\n",
       "      <td>0</td>\n",
       "      <td>1.0</td>\n",
       "      <td>25.102391</td>\n",
       "      <td>1.0</td>\n",
       "    </tr>\n",
       "    <tr>\n",
       "      <th>4</th>\n",
       "      <td>0.0</td>\n",
       "      <td>0.186000</td>\n",
       "      <td>2015.0</td>\n",
       "      <td>77</td>\n",
       "      <td>1</td>\n",
       "      <td>5.0</td>\n",
       "      <td>1</td>\n",
       "      <td>2.0</td>\n",
       "      <td>1</td>\n",
       "      <td>1.0</td>\n",
       "      <td>29.384757</td>\n",
       "      <td>1.0</td>\n",
       "    </tr>\n",
       "  </tbody>\n",
       "</table>\n",
       "</div>"
      ],
      "text/plain": [
       "   life_sat    income    year  age  gender  yedu  mstat  hstatus  gali  otrf  \\\n",
       "0       1.0  0.300000  2015.0   74       1  11.0      5      2.0     1   5.0   \n",
       "1       0.0  0.180000  2015.0   62       2   8.0      1      2.0     0   1.0   \n",
       "2       0.0  0.065068  2013.0   60       1   8.0      1      3.0     0   1.0   \n",
       "3       1.0  0.360000  2015.0   65       1  20.0      1      3.0     0   1.0   \n",
       "4       0.0  0.186000  2015.0   77       1   5.0      1      2.0     1   1.0   \n",
       "\n",
       "         bmi  cjs  \n",
       "0  28.405338  1.0  \n",
       "1  27.548209  5.0  \n",
       "2  23.629490  2.0  \n",
       "3  25.102391  1.0  \n",
       "4  29.384757  1.0  "
      ]
     },
     "execution_count": 33,
     "metadata": {},
     "output_type": "execute_result"
    }
   ],
   "source": [
    "print('We select our main variables for the regression analysis:')\n",
    "\n",
    "ps2 = ps.loc[:, ['life_sat','income','year', 'age', 'gender', 'yedu', 'mstat', 'hstatus', 'gali', 'otrf', 'bmi', 'cjs']]\n",
    "ps2.head()"
   ]
  },
  {
   "cell_type": "code",
   "execution_count": 34,
   "metadata": {},
   "outputs": [
    {
     "name": "stdout",
     "output_type": "stream",
     "text": [
      "We turn the year into a datetime object.\n"
     ]
    }
   ],
   "source": [
    "print('We turn the year into a datetime object.')\n",
    "\n",
    "ps2['year'] = pd.to_datetime(ps2['year'], errors='coerce',  format=\"%Y\")\n",
    "ps2['year'] = ps2['year'].dt.year"
   ]
  },
  {
   "cell_type": "code",
   "execution_count": 35,
   "metadata": {},
   "outputs": [
    {
     "name": "stdout",
     "output_type": "stream",
     "text": [
      "We drop some incorrect values of the variable cjs and we create a dummy for the gender.\n"
     ]
    },
    {
     "data": {
      "text/html": [
       "<div>\n",
       "<style scoped>\n",
       "    .dataframe tbody tr th:only-of-type {\n",
       "        vertical-align: middle;\n",
       "    }\n",
       "\n",
       "    .dataframe tbody tr th {\n",
       "        vertical-align: top;\n",
       "    }\n",
       "\n",
       "    .dataframe thead th {\n",
       "        text-align: right;\n",
       "    }\n",
       "</style>\n",
       "<table border=\"1\" class=\"dataframe\">\n",
       "  <thead>\n",
       "    <tr style=\"text-align: right;\">\n",
       "      <th></th>\n",
       "      <th>life_sat</th>\n",
       "      <th>income</th>\n",
       "      <th>year</th>\n",
       "      <th>age</th>\n",
       "      <th>yedu</th>\n",
       "      <th>mstat</th>\n",
       "      <th>hstatus</th>\n",
       "      <th>gali</th>\n",
       "      <th>otrf</th>\n",
       "      <th>bmi</th>\n",
       "      <th>cjs</th>\n",
       "      <th>male</th>\n",
       "    </tr>\n",
       "  </thead>\n",
       "  <tbody>\n",
       "    <tr>\n",
       "      <th>0</th>\n",
       "      <td>1.0</td>\n",
       "      <td>0.300000</td>\n",
       "      <td>2015</td>\n",
       "      <td>74</td>\n",
       "      <td>11.0</td>\n",
       "      <td>5</td>\n",
       "      <td>2.0</td>\n",
       "      <td>1</td>\n",
       "      <td>5.0</td>\n",
       "      <td>28.405338</td>\n",
       "      <td>1.0</td>\n",
       "      <td>1</td>\n",
       "    </tr>\n",
       "    <tr>\n",
       "      <th>1</th>\n",
       "      <td>0.0</td>\n",
       "      <td>0.180000</td>\n",
       "      <td>2015</td>\n",
       "      <td>62</td>\n",
       "      <td>8.0</td>\n",
       "      <td>1</td>\n",
       "      <td>2.0</td>\n",
       "      <td>0</td>\n",
       "      <td>1.0</td>\n",
       "      <td>27.548209</td>\n",
       "      <td>5.0</td>\n",
       "      <td>0</td>\n",
       "    </tr>\n",
       "    <tr>\n",
       "      <th>2</th>\n",
       "      <td>0.0</td>\n",
       "      <td>0.065068</td>\n",
       "      <td>2013</td>\n",
       "      <td>60</td>\n",
       "      <td>8.0</td>\n",
       "      <td>1</td>\n",
       "      <td>3.0</td>\n",
       "      <td>0</td>\n",
       "      <td>1.0</td>\n",
       "      <td>23.629490</td>\n",
       "      <td>2.0</td>\n",
       "      <td>1</td>\n",
       "    </tr>\n",
       "    <tr>\n",
       "      <th>3</th>\n",
       "      <td>1.0</td>\n",
       "      <td>0.360000</td>\n",
       "      <td>2015</td>\n",
       "      <td>65</td>\n",
       "      <td>20.0</td>\n",
       "      <td>1</td>\n",
       "      <td>3.0</td>\n",
       "      <td>0</td>\n",
       "      <td>1.0</td>\n",
       "      <td>25.102391</td>\n",
       "      <td>1.0</td>\n",
       "      <td>1</td>\n",
       "    </tr>\n",
       "    <tr>\n",
       "      <th>4</th>\n",
       "      <td>0.0</td>\n",
       "      <td>0.186000</td>\n",
       "      <td>2015</td>\n",
       "      <td>77</td>\n",
       "      <td>5.0</td>\n",
       "      <td>1</td>\n",
       "      <td>2.0</td>\n",
       "      <td>1</td>\n",
       "      <td>1.0</td>\n",
       "      <td>29.384757</td>\n",
       "      <td>1.0</td>\n",
       "      <td>1</td>\n",
       "    </tr>\n",
       "  </tbody>\n",
       "</table>\n",
       "</div>"
      ],
      "text/plain": [
       "   life_sat    income  year  age  yedu  mstat  hstatus  gali  otrf        bmi  \\\n",
       "0       1.0  0.300000  2015   74  11.0      5      2.0     1   5.0  28.405338   \n",
       "1       0.0  0.180000  2015   62   8.0      1      2.0     0   1.0  27.548209   \n",
       "2       0.0  0.065068  2013   60   8.0      1      3.0     0   1.0  23.629490   \n",
       "3       1.0  0.360000  2015   65  20.0      1      3.0     0   1.0  25.102391   \n",
       "4       0.0  0.186000  2015   77   5.0      1      2.0     1   1.0  29.384757   \n",
       "\n",
       "   cjs  male  \n",
       "0  1.0     1  \n",
       "1  5.0     0  \n",
       "2  2.0     1  \n",
       "3  1.0     1  \n",
       "4  1.0     1  "
      ]
     },
     "execution_count": 35,
     "metadata": {},
     "output_type": "execute_result"
    }
   ],
   "source": [
    "print('We drop some incorrect values of the variable cjs and we create a dummy for the gender.')\n",
    "\n",
    "ps2 = ps2[ps2.cjs<6] \n",
    "\n",
    "gend = pd.get_dummies(ps2['gender'])\n",
    "ps2['male'] = gend[1]\n",
    "ps2.drop('gender', axis = 1, inplace=True)\n",
    "ps2.head()"
   ]
  },
  {
   "cell_type": "code",
   "execution_count": 36,
   "metadata": {},
   "outputs": [
    {
     "name": "stdout",
     "output_type": "stream",
     "text": [
      "The new dimension of the dataset is (11993, 12)\n"
     ]
    }
   ],
   "source": [
    "print('The new dimension of the dataset is', ps2.shape)"
   ]
  },
  {
   "cell_type": "markdown",
   "metadata": {},
   "source": [
    "## Descriptive statistic"
   ]
  },
  {
   "cell_type": "markdown",
   "metadata": {},
   "source": [
    "### Life satisfaction"
   ]
  },
  {
   "cell_type": "code",
   "execution_count": 37,
   "metadata": {},
   "outputs": [
    {
     "name": "stdout",
     "output_type": "stream",
     "text": [
      "Descriptive table for life satisfaction:\n"
     ]
    },
    {
     "data": {
      "text/html": [
       "<div>\n",
       "<style scoped>\n",
       "    .dataframe tbody tr th:only-of-type {\n",
       "        vertical-align: middle;\n",
       "    }\n",
       "\n",
       "    .dataframe tbody tr th {\n",
       "        vertical-align: top;\n",
       "    }\n",
       "\n",
       "    .dataframe thead th {\n",
       "        text-align: right;\n",
       "    }\n",
       "</style>\n",
       "<table border=\"1\" class=\"dataframe\">\n",
       "  <thead>\n",
       "    <tr style=\"text-align: right;\">\n",
       "      <th></th>\n",
       "      <th>count</th>\n",
       "      <th>mean</th>\n",
       "      <th>std</th>\n",
       "      <th>min</th>\n",
       "      <th>25%</th>\n",
       "      <th>50%</th>\n",
       "      <th>75%</th>\n",
       "      <th>max</th>\n",
       "    </tr>\n",
       "    <tr>\n",
       "      <th>year</th>\n",
       "      <th></th>\n",
       "      <th></th>\n",
       "      <th></th>\n",
       "      <th></th>\n",
       "      <th></th>\n",
       "      <th></th>\n",
       "      <th></th>\n",
       "      <th></th>\n",
       "    </tr>\n",
       "  </thead>\n",
       "  <tbody>\n",
       "    <tr>\n",
       "      <th>2011</th>\n",
       "      <td>3189.0</td>\n",
       "      <td>0.600815</td>\n",
       "      <td>0.489813</td>\n",
       "      <td>0.0</td>\n",
       "      <td>0.0</td>\n",
       "      <td>1.0</td>\n",
       "      <td>1.0</td>\n",
       "      <td>1.0</td>\n",
       "    </tr>\n",
       "    <tr>\n",
       "      <th>2013</th>\n",
       "      <td>4209.0</td>\n",
       "      <td>0.559991</td>\n",
       "      <td>0.496448</td>\n",
       "      <td>0.0</td>\n",
       "      <td>0.0</td>\n",
       "      <td>1.0</td>\n",
       "      <td>1.0</td>\n",
       "      <td>1.0</td>\n",
       "    </tr>\n",
       "    <tr>\n",
       "      <th>2015</th>\n",
       "      <td>4595.0</td>\n",
       "      <td>0.593906</td>\n",
       "      <td>0.491159</td>\n",
       "      <td>0.0</td>\n",
       "      <td>0.0</td>\n",
       "      <td>1.0</td>\n",
       "      <td>1.0</td>\n",
       "      <td>1.0</td>\n",
       "    </tr>\n",
       "  </tbody>\n",
       "</table>\n",
       "</div>"
      ],
      "text/plain": [
       "       count      mean       std  min  25%  50%  75%  max\n",
       "year                                                     \n",
       "2011  3189.0  0.600815  0.489813  0.0  0.0  1.0  1.0  1.0\n",
       "2013  4209.0  0.559991  0.496448  0.0  0.0  1.0  1.0  1.0\n",
       "2015  4595.0  0.593906  0.491159  0.0  0.0  1.0  1.0  1.0"
      ]
     },
     "execution_count": 37,
     "metadata": {},
     "output_type": "execute_result"
    }
   ],
   "source": [
    "print('Descriptive table for life satisfaction:')\n",
    "\n",
    "ps2.groupby('year').life_sat.describe()"
   ]
  },
  {
   "cell_type": "code",
   "execution_count": 38,
   "metadata": {},
   "outputs": [
    {
     "name": "stdout",
     "output_type": "stream",
     "text": [
      "The distribution of life satisfaction:\n"
     ]
    },
    {
     "data": {
      "image/png": "[encoded data removed]",
      "text/plain": [
       "<Figure size 462.857x216 with 1 Axes>"
      ]
     },
     "metadata": {},
     "output_type": "display_data"
    }
   ],
   "source": [
    "print('The distribution of life satisfaction:')\n",
    "\n",
    "fig1 = sns.catplot(data=ps2, x=\"life_sat\", kind=\"count\", height=3, aspect=15/7);\n",
    "fig1.savefig('life_sat')"
   ]
  },
  {
   "cell_type": "code",
   "execution_count": 39,
   "metadata": {},
   "outputs": [
    {
     "name": "stdout",
     "output_type": "stream",
     "text": [
      "The dataset contains the 41.62 % of people not satisifed and the 58.38 % of people satisfied.\n"
     ]
    }
   ],
   "source": [
    "count_zero = len(ps2[ps2.life_sat==0])\n",
    "count_one = len(ps2[ps2.life_sat==1])\n",
    "pct_zero = round((count_zero/(count_zero+count_one))*100,2)\n",
    "pct_one = round((count_one/(count_zero+count_one))*100, 2)\n",
    "\n",
    "print('The dataset contains the', pct_zero, '% of people not satisifed and the', pct_one, '% of people satisfied.')"
   ]
  },
  {
   "cell_type": "markdown",
   "metadata": {},
   "source": [
    "### Income"
   ]
  },
  {
   "cell_type": "code",
   "execution_count": 40,
   "metadata": {},
   "outputs": [
    {
     "name": "stdout",
     "output_type": "stream",
     "text": [
      "Descriptive table for the income:\n"
     ]
    },
    {
     "data": {
      "text/html": [
       "<div>\n",
       "<style scoped>\n",
       "    .dataframe tbody tr th:only-of-type {\n",
       "        vertical-align: middle;\n",
       "    }\n",
       "\n",
       "    .dataframe tbody tr th {\n",
       "        vertical-align: top;\n",
       "    }\n",
       "\n",
       "    .dataframe thead th {\n",
       "        text-align: right;\n",
       "    }\n",
       "</style>\n",
       "<table border=\"1\" class=\"dataframe\">\n",
       "  <thead>\n",
       "    <tr style=\"text-align: right;\">\n",
       "      <th></th>\n",
       "      <th>count</th>\n",
       "      <th>mean</th>\n",
       "      <th>std</th>\n",
       "      <th>min</th>\n",
       "      <th>25%</th>\n",
       "      <th>50%</th>\n",
       "      <th>75%</th>\n",
       "      <th>max</th>\n",
       "    </tr>\n",
       "    <tr>\n",
       "      <th>year</th>\n",
       "      <th></th>\n",
       "      <th></th>\n",
       "      <th></th>\n",
       "      <th></th>\n",
       "      <th></th>\n",
       "      <th></th>\n",
       "      <th></th>\n",
       "      <th></th>\n",
       "    </tr>\n",
       "  </thead>\n",
       "  <tbody>\n",
       "    <tr>\n",
       "      <th>2011</th>\n",
       "      <td>3189.0</td>\n",
       "      <td>0.35</td>\n",
       "      <td>0.47</td>\n",
       "      <td>0.05</td>\n",
       "      <td>0.14</td>\n",
       "      <td>0.20</td>\n",
       "      <td>0.34</td>\n",
       "      <td>3.36</td>\n",
       "    </tr>\n",
       "    <tr>\n",
       "      <th>2013</th>\n",
       "      <td>4209.0</td>\n",
       "      <td>0.39</td>\n",
       "      <td>0.59</td>\n",
       "      <td>0.04</td>\n",
       "      <td>0.14</td>\n",
       "      <td>0.20</td>\n",
       "      <td>0.34</td>\n",
       "      <td>4.20</td>\n",
       "    </tr>\n",
       "    <tr>\n",
       "      <th>2015</th>\n",
       "      <td>4595.0</td>\n",
       "      <td>0.22</td>\n",
       "      <td>0.11</td>\n",
       "      <td>0.06</td>\n",
       "      <td>0.13</td>\n",
       "      <td>0.19</td>\n",
       "      <td>0.29</td>\n",
       "      <td>0.60</td>\n",
       "    </tr>\n",
       "  </tbody>\n",
       "</table>\n",
       "</div>"
      ],
      "text/plain": [
       "       count  mean   std   min   25%   50%   75%   max\n",
       "year                                                  \n",
       "2011  3189.0  0.35  0.47  0.05  0.14  0.20  0.34  3.36\n",
       "2013  4209.0  0.39  0.59  0.04  0.14  0.20  0.34  4.20\n",
       "2015  4595.0  0.22  0.11  0.06  0.13  0.19  0.29  0.60"
      ]
     },
     "execution_count": 40,
     "metadata": {},
     "output_type": "execute_result"
    }
   ],
   "source": [
    "print('Descriptive table for the income:')\n",
    "\n",
    "ps2.groupby('year').income.describe().round(2)"
   ]
  },
  {
   "cell_type": "code",
   "execution_count": 41,
   "metadata": {},
   "outputs": [
    {
     "name": "stdout",
     "output_type": "stream",
     "text": [
      "The distribution of income:\n"
     ]
    },
    {
     "data": {
      "image/png": "[encoded data removed]",
      "text/plain": [
       "<Figure size 675x360 with 1 Axes>"
      ]
     },
     "metadata": {},
     "output_type": "display_data"
    }
   ],
   "source": [
    "print('The distribution of income:')\n",
    "\n",
    "fig2 = sns.displot(ps2, x=\"income\", kind='kde', height=5, aspect=15/8);\n",
    "fig2.savefig('income')"
   ]
  },
  {
   "cell_type": "markdown",
   "metadata": {},
   "source": [
    "### Years of education"
   ]
  },
  {
   "cell_type": "code",
   "execution_count": 42,
   "metadata": {},
   "outputs": [
    {
     "name": "stdout",
     "output_type": "stream",
     "text": [
      "Descriptive table of years of education:\n"
     ]
    },
    {
     "data": {
      "text/html": [
       "<div>\n",
       "<style scoped>\n",
       "    .dataframe tbody tr th:only-of-type {\n",
       "        vertical-align: middle;\n",
       "    }\n",
       "\n",
       "    .dataframe tbody tr th {\n",
       "        vertical-align: top;\n",
       "    }\n",
       "\n",
       "    .dataframe thead th {\n",
       "        text-align: right;\n",
       "    }\n",
       "</style>\n",
       "<table border=\"1\" class=\"dataframe\">\n",
       "  <thead>\n",
       "    <tr style=\"text-align: right;\">\n",
       "      <th></th>\n",
       "      <th>count</th>\n",
       "      <th>mean</th>\n",
       "      <th>std</th>\n",
       "      <th>min</th>\n",
       "      <th>25%</th>\n",
       "      <th>50%</th>\n",
       "      <th>75%</th>\n",
       "      <th>max</th>\n",
       "    </tr>\n",
       "    <tr>\n",
       "      <th>year</th>\n",
       "      <th></th>\n",
       "      <th></th>\n",
       "      <th></th>\n",
       "      <th></th>\n",
       "      <th></th>\n",
       "      <th></th>\n",
       "      <th></th>\n",
       "      <th></th>\n",
       "    </tr>\n",
       "  </thead>\n",
       "  <tbody>\n",
       "    <tr>\n",
       "      <th>2011</th>\n",
       "      <td>3189.0</td>\n",
       "      <td>8.25</td>\n",
       "      <td>4.29</td>\n",
       "      <td>0.0</td>\n",
       "      <td>5.0</td>\n",
       "      <td>8.0</td>\n",
       "      <td>12.0</td>\n",
       "      <td>25.0</td>\n",
       "    </tr>\n",
       "    <tr>\n",
       "      <th>2013</th>\n",
       "      <td>4209.0</td>\n",
       "      <td>8.78</td>\n",
       "      <td>4.55</td>\n",
       "      <td>0.0</td>\n",
       "      <td>5.0</td>\n",
       "      <td>8.0</td>\n",
       "      <td>13.0</td>\n",
       "      <td>25.0</td>\n",
       "    </tr>\n",
       "    <tr>\n",
       "      <th>2015</th>\n",
       "      <td>4595.0</td>\n",
       "      <td>9.05</td>\n",
       "      <td>4.58</td>\n",
       "      <td>0.0</td>\n",
       "      <td>5.0</td>\n",
       "      <td>8.0</td>\n",
       "      <td>13.0</td>\n",
       "      <td>25.0</td>\n",
       "    </tr>\n",
       "  </tbody>\n",
       "</table>\n",
       "</div>"
      ],
      "text/plain": [
       "       count  mean   std  min  25%  50%   75%   max\n",
       "year                                               \n",
       "2011  3189.0  8.25  4.29  0.0  5.0  8.0  12.0  25.0\n",
       "2013  4209.0  8.78  4.55  0.0  5.0  8.0  13.0  25.0\n",
       "2015  4595.0  9.05  4.58  0.0  5.0  8.0  13.0  25.0"
      ]
     },
     "execution_count": 42,
     "metadata": {},
     "output_type": "execute_result"
    }
   ],
   "source": [
    "print('Descriptive table of years of education:')\n",
    "\n",
    "ps2.groupby('year').yedu.describe().round(2)"
   ]
  },
  {
   "cell_type": "code",
   "execution_count": 43,
   "metadata": {},
   "outputs": [
    {
     "name": "stdout",
     "output_type": "stream",
     "text": [
      "The distribution of years of education:\n"
     ]
    },
    {
     "data": {
      "image/png": "[encoded data removed]",
      "text/plain": [
       "<Figure size 900x360 with 1 Axes>"
      ]
     },
     "metadata": {},
     "output_type": "display_data"
    }
   ],
   "source": [
    "print('The distribution of years of education:')\n",
    "\n",
    "fig3 = sns.catplot(data=ps2, x=\"yedu\", kind=\"count\", height=5, aspect=20/8);\n",
    "fig3.savefig('yedu')"
   ]
  },
  {
   "cell_type": "markdown",
   "metadata": {},
   "source": [
    "### Health status perception"
   ]
  },
  {
   "cell_type": "code",
   "execution_count": 44,
   "metadata": {},
   "outputs": [
    {
     "name": "stdout",
     "output_type": "stream",
     "text": [
      "Descriptive table of health status:\n"
     ]
    },
    {
     "data": {
      "text/html": [
       "<div>\n",
       "<style scoped>\n",
       "    .dataframe tbody tr th:only-of-type {\n",
       "        vertical-align: middle;\n",
       "    }\n",
       "\n",
       "    .dataframe tbody tr th {\n",
       "        vertical-align: top;\n",
       "    }\n",
       "\n",
       "    .dataframe thead th {\n",
       "        text-align: right;\n",
       "    }\n",
       "</style>\n",
       "<table border=\"1\" class=\"dataframe\">\n",
       "  <thead>\n",
       "    <tr style=\"text-align: right;\">\n",
       "      <th></th>\n",
       "      <th>count</th>\n",
       "      <th>mean</th>\n",
       "      <th>std</th>\n",
       "      <th>min</th>\n",
       "      <th>25%</th>\n",
       "      <th>50%</th>\n",
       "      <th>75%</th>\n",
       "      <th>max</th>\n",
       "    </tr>\n",
       "    <tr>\n",
       "      <th>year</th>\n",
       "      <th></th>\n",
       "      <th></th>\n",
       "      <th></th>\n",
       "      <th></th>\n",
       "      <th></th>\n",
       "      <th></th>\n",
       "      <th></th>\n",
       "      <th></th>\n",
       "    </tr>\n",
       "  </thead>\n",
       "  <tbody>\n",
       "    <tr>\n",
       "      <th>2011</th>\n",
       "      <td>3189.0</td>\n",
       "      <td>2.77</td>\n",
       "      <td>1.07</td>\n",
       "      <td>1.0</td>\n",
       "      <td>2.0</td>\n",
       "      <td>3.0</td>\n",
       "      <td>3.0</td>\n",
       "      <td>5.0</td>\n",
       "    </tr>\n",
       "    <tr>\n",
       "      <th>2013</th>\n",
       "      <td>4209.0</td>\n",
       "      <td>2.72</td>\n",
       "      <td>1.08</td>\n",
       "      <td>1.0</td>\n",
       "      <td>2.0</td>\n",
       "      <td>3.0</td>\n",
       "      <td>3.0</td>\n",
       "      <td>5.0</td>\n",
       "    </tr>\n",
       "    <tr>\n",
       "      <th>2015</th>\n",
       "      <td>4595.0</td>\n",
       "      <td>2.79</td>\n",
       "      <td>1.03</td>\n",
       "      <td>1.0</td>\n",
       "      <td>2.0</td>\n",
       "      <td>3.0</td>\n",
       "      <td>3.0</td>\n",
       "      <td>5.0</td>\n",
       "    </tr>\n",
       "  </tbody>\n",
       "</table>\n",
       "</div>"
      ],
      "text/plain": [
       "       count  mean   std  min  25%  50%  75%  max\n",
       "year                                             \n",
       "2011  3189.0  2.77  1.07  1.0  2.0  3.0  3.0  5.0\n",
       "2013  4209.0  2.72  1.08  1.0  2.0  3.0  3.0  5.0\n",
       "2015  4595.0  2.79  1.03  1.0  2.0  3.0  3.0  5.0"
      ]
     },
     "execution_count": 44,
     "metadata": {},
     "output_type": "execute_result"
    }
   ],
   "source": [
    "print('Descriptive table of health status:')\n",
    "\n",
    "ps2.groupby('year').hstatus.describe().round(2)"
   ]
  },
  {
   "cell_type": "code",
   "execution_count": 45,
   "metadata": {},
   "outputs": [
    {
     "name": "stdout",
     "output_type": "stream",
     "text": [
      "The distribution of health status:\n"
     ]
    },
    {
     "data": {
      "image/png": "[encoded data removed]",
      "text/plain": [
       "<Figure size 691.2x288 with 1 Axes>"
      ]
     },
     "metadata": {},
     "output_type": "display_data"
    }
   ],
   "source": [
    "print('The distribution of health status:')\n",
    "\n",
    "fig4 = sns.catplot(data=ps2, x=\"hstatus\", kind=\"count\", height=4, aspect=12/5);\n",
    "fig4.savefig('hstatus')"
   ]
  },
  {
   "cell_type": "markdown",
   "metadata": {},
   "source": [
    "### Housing condition"
   ]
  },
  {
   "cell_type": "code",
   "execution_count": 46,
   "metadata": {},
   "outputs": [
    {
     "name": "stdout",
     "output_type": "stream",
     "text": [
      "Descriptive table of housing condition:\n"
     ]
    },
    {
     "data": {
      "text/html": [
       "<div>\n",
       "<style scoped>\n",
       "    .dataframe tbody tr th:only-of-type {\n",
       "        vertical-align: middle;\n",
       "    }\n",
       "\n",
       "    .dataframe tbody tr th {\n",
       "        vertical-align: top;\n",
       "    }\n",
       "\n",
       "    .dataframe thead th {\n",
       "        text-align: right;\n",
       "    }\n",
       "</style>\n",
       "<table border=\"1\" class=\"dataframe\">\n",
       "  <thead>\n",
       "    <tr style=\"text-align: right;\">\n",
       "      <th></th>\n",
       "      <th>count</th>\n",
       "      <th>mean</th>\n",
       "      <th>std</th>\n",
       "      <th>min</th>\n",
       "      <th>25%</th>\n",
       "      <th>50%</th>\n",
       "      <th>75%</th>\n",
       "      <th>max</th>\n",
       "    </tr>\n",
       "    <tr>\n",
       "      <th>year</th>\n",
       "      <th></th>\n",
       "      <th></th>\n",
       "      <th></th>\n",
       "      <th></th>\n",
       "      <th></th>\n",
       "      <th></th>\n",
       "      <th></th>\n",
       "      <th></th>\n",
       "    </tr>\n",
       "  </thead>\n",
       "  <tbody>\n",
       "    <tr>\n",
       "      <th>2011</th>\n",
       "      <td>3189.0</td>\n",
       "      <td>1.49</td>\n",
       "      <td>1.13</td>\n",
       "      <td>1.0</td>\n",
       "      <td>1.0</td>\n",
       "      <td>1.0</td>\n",
       "      <td>1.0</td>\n",
       "      <td>5.0</td>\n",
       "    </tr>\n",
       "    <tr>\n",
       "      <th>2013</th>\n",
       "      <td>4209.0</td>\n",
       "      <td>1.43</td>\n",
       "      <td>1.08</td>\n",
       "      <td>1.0</td>\n",
       "      <td>1.0</td>\n",
       "      <td>1.0</td>\n",
       "      <td>1.0</td>\n",
       "      <td>5.0</td>\n",
       "    </tr>\n",
       "    <tr>\n",
       "      <th>2015</th>\n",
       "      <td>4595.0</td>\n",
       "      <td>1.43</td>\n",
       "      <td>1.08</td>\n",
       "      <td>1.0</td>\n",
       "      <td>1.0</td>\n",
       "      <td>1.0</td>\n",
       "      <td>1.0</td>\n",
       "      <td>5.0</td>\n",
       "    </tr>\n",
       "  </tbody>\n",
       "</table>\n",
       "</div>"
      ],
      "text/plain": [
       "       count  mean   std  min  25%  50%  75%  max\n",
       "year                                             \n",
       "2011  3189.0  1.49  1.13  1.0  1.0  1.0  1.0  5.0\n",
       "2013  4209.0  1.43  1.08  1.0  1.0  1.0  1.0  5.0\n",
       "2015  4595.0  1.43  1.08  1.0  1.0  1.0  1.0  5.0"
      ]
     },
     "execution_count": 46,
     "metadata": {},
     "output_type": "execute_result"
    }
   ],
   "source": [
    "print('Descriptive table of housing condition:')\n",
    "\n",
    "ps2.groupby('year').otrf.describe().round(2)"
   ]
  },
  {
   "cell_type": "code",
   "execution_count": 47,
   "metadata": {},
   "outputs": [
    {
     "name": "stdout",
     "output_type": "stream",
     "text": [
      "The distribution of housing condition:\n"
     ]
    },
    {
     "data": {
      "image/png": "[encoded data removed]",
      "text/plain": [
       "<Figure size 460.8x288 with 1 Axes>"
      ]
     },
     "metadata": {},
     "output_type": "display_data"
    }
   ],
   "source": [
    "print('The distribution of housing condition:')\n",
    "\n",
    "fig5 = sns.catplot(data=ps2, x=\"otrf\", kind=\"count\", height=4, aspect=8/5);\n",
    "fig5.savefig('otrf')"
   ]
  },
  {
   "cell_type": "code",
   "execution_count": 48,
   "metadata": {},
   "outputs": [
    {
     "name": "stdout",
     "output_type": "stream",
     "text": [
      "The table with relative frequences of housing condition is:\n",
      "\n",
      "1.0    83.80\n",
      "3.0     9.80\n",
      "5.0     6.25\n",
      "2.0     0.13\n",
      "4.0     0.03\n",
      "Name: otrf, dtype: float64\n"
     ]
    }
   ],
   "source": [
    "freq_otrf = round(((ps2.otrf.value_counts())/ps2.otrf.count())*100,2 )\n",
    "\n",
    "print('The table with relative frequences of housing condition is:\\n')\n",
    "print(freq_otrf)"
   ]
  },
  {
   "cell_type": "markdown",
   "metadata": {},
   "source": [
    "### Body Mass Index"
   ]
  },
  {
   "cell_type": "code",
   "execution_count": 49,
   "metadata": {},
   "outputs": [
    {
     "name": "stdout",
     "output_type": "stream",
     "text": [
      "Descriptive table for Body Mass Index:\n"
     ]
    },
    {
     "data": {
      "text/html": [
       "<div>\n",
       "<style scoped>\n",
       "    .dataframe tbody tr th:only-of-type {\n",
       "        vertical-align: middle;\n",
       "    }\n",
       "\n",
       "    .dataframe tbody tr th {\n",
       "        vertical-align: top;\n",
       "    }\n",
       "\n",
       "    .dataframe thead th {\n",
       "        text-align: right;\n",
       "    }\n",
       "</style>\n",
       "<table border=\"1\" class=\"dataframe\">\n",
       "  <thead>\n",
       "    <tr style=\"text-align: right;\">\n",
       "      <th></th>\n",
       "      <th>count</th>\n",
       "      <th>mean</th>\n",
       "      <th>std</th>\n",
       "      <th>min</th>\n",
       "      <th>25%</th>\n",
       "      <th>50%</th>\n",
       "      <th>75%</th>\n",
       "      <th>max</th>\n",
       "    </tr>\n",
       "    <tr>\n",
       "      <th>year</th>\n",
       "      <th></th>\n",
       "      <th></th>\n",
       "      <th></th>\n",
       "      <th></th>\n",
       "      <th></th>\n",
       "      <th></th>\n",
       "      <th></th>\n",
       "      <th></th>\n",
       "    </tr>\n",
       "  </thead>\n",
       "  <tbody>\n",
       "    <tr>\n",
       "      <th>2011</th>\n",
       "      <td>3189.0</td>\n",
       "      <td>26.48</td>\n",
       "      <td>4.33</td>\n",
       "      <td>15.62</td>\n",
       "      <td>23.66</td>\n",
       "      <td>26.12</td>\n",
       "      <td>28.73</td>\n",
       "      <td>72.50</td>\n",
       "    </tr>\n",
       "    <tr>\n",
       "      <th>2013</th>\n",
       "      <td>4209.0</td>\n",
       "      <td>26.20</td>\n",
       "      <td>4.23</td>\n",
       "      <td>15.52</td>\n",
       "      <td>23.44</td>\n",
       "      <td>25.64</td>\n",
       "      <td>28.34</td>\n",
       "      <td>66.60</td>\n",
       "    </tr>\n",
       "    <tr>\n",
       "      <th>2015</th>\n",
       "      <td>4595.0</td>\n",
       "      <td>26.23</td>\n",
       "      <td>4.15</td>\n",
       "      <td>14.34</td>\n",
       "      <td>23.44</td>\n",
       "      <td>25.71</td>\n",
       "      <td>28.40</td>\n",
       "      <td>50.71</td>\n",
       "    </tr>\n",
       "  </tbody>\n",
       "</table>\n",
       "</div>"
      ],
      "text/plain": [
       "       count   mean   std    min    25%    50%    75%    max\n",
       "year                                                        \n",
       "2011  3189.0  26.48  4.33  15.62  23.66  26.12  28.73  72.50\n",
       "2013  4209.0  26.20  4.23  15.52  23.44  25.64  28.34  66.60\n",
       "2015  4595.0  26.23  4.15  14.34  23.44  25.71  28.40  50.71"
      ]
     },
     "execution_count": 49,
     "metadata": {},
     "output_type": "execute_result"
    }
   ],
   "source": [
    "print('Descriptive table for Body Mass Index:')\n",
    "\n",
    "ps2.groupby('year').bmi.describe().round(2)"
   ]
  },
  {
   "cell_type": "code",
   "execution_count": 50,
   "metadata": {},
   "outputs": [
    {
     "name": "stdout",
     "output_type": "stream",
     "text": [
      "The distribution of the Body Mass Index:\n"
     ]
    },
    {
     "data": {
      "image/png": "[encoded data removed]",
      "text/plain": [
       "<Figure size 360x360 with 1 Axes>"
      ]
     },
     "metadata": {},
     "output_type": "display_data"
    }
   ],
   "source": [
    "print('The distribution of the Body Mass Index:')\n",
    "\n",
    "fig6 = sns.displot(ps2, x=\"bmi\", kde=True);\n",
    "fig6.savefig('bmi')"
   ]
  },
  {
   "cell_type": "markdown",
   "metadata": {},
   "source": [
    "### Current job situation"
   ]
  },
  {
   "cell_type": "code",
   "execution_count": 51,
   "metadata": {},
   "outputs": [
    {
     "name": "stdout",
     "output_type": "stream",
     "text": [
      "Descriptive table for current job situation:\n"
     ]
    },
    {
     "data": {
      "text/html": [
       "<div>\n",
       "<style scoped>\n",
       "    .dataframe tbody tr th:only-of-type {\n",
       "        vertical-align: middle;\n",
       "    }\n",
       "\n",
       "    .dataframe tbody tr th {\n",
       "        vertical-align: top;\n",
       "    }\n",
       "\n",
       "    .dataframe thead th {\n",
       "        text-align: right;\n",
       "    }\n",
       "</style>\n",
       "<table border=\"1\" class=\"dataframe\">\n",
       "  <thead>\n",
       "    <tr style=\"text-align: right;\">\n",
       "      <th></th>\n",
       "      <th>count</th>\n",
       "      <th>mean</th>\n",
       "      <th>std</th>\n",
       "      <th>min</th>\n",
       "      <th>25%</th>\n",
       "      <th>50%</th>\n",
       "      <th>75%</th>\n",
       "      <th>max</th>\n",
       "    </tr>\n",
       "    <tr>\n",
       "      <th>year</th>\n",
       "      <th></th>\n",
       "      <th></th>\n",
       "      <th></th>\n",
       "      <th></th>\n",
       "      <th></th>\n",
       "      <th></th>\n",
       "      <th></th>\n",
       "      <th></th>\n",
       "    </tr>\n",
       "  </thead>\n",
       "  <tbody>\n",
       "    <tr>\n",
       "      <th>2011</th>\n",
       "      <td>3189.0</td>\n",
       "      <td>2.19</td>\n",
       "      <td>1.61</td>\n",
       "      <td>1.0</td>\n",
       "      <td>1.0</td>\n",
       "      <td>1.0</td>\n",
       "      <td>3.0</td>\n",
       "      <td>5.0</td>\n",
       "    </tr>\n",
       "    <tr>\n",
       "      <th>2013</th>\n",
       "      <td>4209.0</td>\n",
       "      <td>2.14</td>\n",
       "      <td>1.55</td>\n",
       "      <td>1.0</td>\n",
       "      <td>1.0</td>\n",
       "      <td>1.0</td>\n",
       "      <td>2.0</td>\n",
       "      <td>5.0</td>\n",
       "    </tr>\n",
       "    <tr>\n",
       "      <th>2015</th>\n",
       "      <td>4595.0</td>\n",
       "      <td>2.15</td>\n",
       "      <td>1.54</td>\n",
       "      <td>1.0</td>\n",
       "      <td>1.0</td>\n",
       "      <td>1.0</td>\n",
       "      <td>3.0</td>\n",
       "      <td>5.0</td>\n",
       "    </tr>\n",
       "  </tbody>\n",
       "</table>\n",
       "</div>"
      ],
      "text/plain": [
       "       count  mean   std  min  25%  50%  75%  max\n",
       "year                                             \n",
       "2011  3189.0  2.19  1.61  1.0  1.0  1.0  3.0  5.0\n",
       "2013  4209.0  2.14  1.55  1.0  1.0  1.0  2.0  5.0\n",
       "2015  4595.0  2.15  1.54  1.0  1.0  1.0  3.0  5.0"
      ]
     },
     "execution_count": 51,
     "metadata": {},
     "output_type": "execute_result"
    }
   ],
   "source": [
    "print('Descriptive table for current job situation:')\n",
    "\n",
    "ps2.groupby('year').cjs.describe().round(2)"
   ]
  },
  {
   "cell_type": "code",
   "execution_count": 52,
   "metadata": {},
   "outputs": [
    {
     "name": "stdout",
     "output_type": "stream",
     "text": [
      "The distribution of current job situation:\n"
     ]
    },
    {
     "data": {
      "image/png": "[encoded data removed]",
      "text/plain": [
       "<Figure size 460.8x288 with 1 Axes>"
      ]
     },
     "metadata": {},
     "output_type": "display_data"
    }
   ],
   "source": [
    "print('The distribution of current job situation:')\n",
    "\n",
    "fig7 = sns.catplot(data=ps2, x=\"cjs\", kind=\"count\", height=4, aspect=8/5);\n",
    "fig7.savefig('cjs')"
   ]
  },
  {
   "cell_type": "code",
   "execution_count": 53,
   "metadata": {},
   "outputs": [
    {
     "name": "stdout",
     "output_type": "stream",
     "text": [
      "The table with relative frequences of current job situation is:\n",
      "\n",
      "1.0    52.40\n",
      "2.0    22.26\n",
      "5.0    20.21\n",
      "3.0     2.82\n",
      "4.0     2.31\n",
      "Name: cjs, dtype: float64\n"
     ]
    }
   ],
   "source": [
    "freq_cjs = round(((ps2.cjs.value_counts())/ps2.cjs.count())*100 ,2)\n",
    "\n",
    "print('The table with relative frequences of current job situation is:\\n')\n",
    "print(freq_cjs)"
   ]
  },
  {
   "cell_type": "markdown",
   "metadata": {},
   "source": [
    "## OLS Regression"
   ]
  },
  {
   "cell_type": "code",
   "execution_count": 54,
   "metadata": {},
   "outputs": [
    {
     "data": {
      "text/html": [
       "<table class=\"simpletable\">\n",
       "<caption>OLS Regression Results</caption>\n",
       "<tr>\n",
       "  <th>Dep. Variable:</th>        <td>life_sat</td>     <th>  R-squared:         </th> <td>   0.107</td> \n",
       "</tr>\n",
       "<tr>\n",
       "  <th>Model:</th>                   <td>OLS</td>       <th>  Adj. R-squared:    </th> <td>   0.106</td> \n",
       "</tr>\n",
       "<tr>\n",
       "  <th>Method:</th>             <td>Least Squares</td>  <th>  F-statistic:       </th> <td>   119.7</td> \n",
       "</tr>\n",
       "<tr>\n",
       "  <th>Date:</th>             <td>Thu, 10 Nov 2022</td> <th>  Prob (F-statistic):</th> <td>1.97e-283</td>\n",
       "</tr>\n",
       "<tr>\n",
       "  <th>Time:</th>                 <td>15:23:59</td>     <th>  Log-Likelihood:    </th> <td> -7854.2</td> \n",
       "</tr>\n",
       "<tr>\n",
       "  <th>No. Observations:</th>      <td> 11993</td>      <th>  AIC:               </th> <td>1.573e+04</td>\n",
       "</tr>\n",
       "<tr>\n",
       "  <th>Df Residuals:</th>          <td> 11980</td>      <th>  BIC:               </th> <td>1.583e+04</td>\n",
       "</tr>\n",
       "<tr>\n",
       "  <th>Df Model:</th>              <td>    12</td>      <th>                     </th>     <td> </td>    \n",
       "</tr>\n",
       "<tr>\n",
       "  <th>Covariance Type:</th>      <td>nonrobust</td>    <th>                     </th>     <td> </td>    \n",
       "</tr>\n",
       "</table>\n",
       "<table class=\"simpletable\">\n",
       "<tr>\n",
       "         <td></td>            <th>coef</th>     <th>std err</th>      <th>t</th>      <th>P>|t|</th>  <th>[0.025</th>    <th>0.975]</th>  \n",
       "</tr>\n",
       "<tr>\n",
       "  <th>Intercept</th>       <td>    0.2260</td> <td>    0.056</td> <td>    4.052</td> <td> 0.000</td> <td>    0.117</td> <td>    0.335</td>\n",
       "</tr>\n",
       "<tr>\n",
       "  <th>C(year)[T.2013]</th> <td>   -0.0396</td> <td>    0.011</td> <td>   -3.613</td> <td> 0.000</td> <td>   -0.061</td> <td>   -0.018</td>\n",
       "</tr>\n",
       "<tr>\n",
       "  <th>C(year)[T.2015]</th> <td>   -0.0122</td> <td>    0.011</td> <td>   -1.126</td> <td> 0.260</td> <td>   -0.034</td> <td>    0.009</td>\n",
       "</tr>\n",
       "<tr>\n",
       "  <th>income</th>          <td>    0.0331</td> <td>    0.010</td> <td>    3.302</td> <td> 0.001</td> <td>    0.013</td> <td>    0.053</td>\n",
       "</tr>\n",
       "<tr>\n",
       "  <th>xols_reg.T[0]</th>   <td>    0.0038</td> <td>    0.001</td> <td>    7.209</td> <td> 0.000</td> <td>    0.003</td> <td>    0.005</td>\n",
       "</tr>\n",
       "<tr>\n",
       "  <th>xols_reg.T[1]</th>   <td>   -0.0196</td> <td>    0.010</td> <td>   -2.006</td> <td> 0.045</td> <td>   -0.039</td> <td>   -0.000</td>\n",
       "</tr>\n",
       "<tr>\n",
       "  <th>xols_reg.T[2]</th>   <td>    0.0053</td> <td>    0.001</td> <td>    4.880</td> <td> 0.000</td> <td>    0.003</td> <td>    0.007</td>\n",
       "</tr>\n",
       "<tr>\n",
       "  <th>xols_reg.T[3]</th>   <td>   -0.0338</td> <td>    0.003</td> <td>  -13.182</td> <td> 0.000</td> <td>   -0.039</td> <td>   -0.029</td>\n",
       "</tr>\n",
       "<tr>\n",
       "  <th>xols_reg.T[4]</th>   <td>    0.1031</td> <td>    0.005</td> <td>   20.715</td> <td> 0.000</td> <td>    0.093</td> <td>    0.113</td>\n",
       "</tr>\n",
       "<tr>\n",
       "  <th>xols_reg.T[5]</th>   <td>   -0.0726</td> <td>    0.011</td> <td>   -6.829</td> <td> 0.000</td> <td>   -0.093</td> <td>   -0.052</td>\n",
       "</tr>\n",
       "<tr>\n",
       "  <th>xols_reg.T[6]</th>   <td>   -0.0228</td> <td>    0.004</td> <td>   -5.764</td> <td> 0.000</td> <td>   -0.031</td> <td>   -0.015</td>\n",
       "</tr>\n",
       "<tr>\n",
       "  <th>xols_reg.T[7]</th>   <td>   -0.0017</td> <td>    0.001</td> <td>   -1.621</td> <td> 0.105</td> <td>   -0.004</td> <td>    0.000</td>\n",
       "</tr>\n",
       "<tr>\n",
       "  <th>xols_reg.T[8]</th>   <td>   -0.0173</td> <td>    0.003</td> <td>   -5.478</td> <td> 0.000</td> <td>   -0.024</td> <td>   -0.011</td>\n",
       "</tr>\n",
       "</table>\n",
       "<table class=\"simpletable\">\n",
       "<tr>\n",
       "  <th>Omnibus:</th>       <td>77993.927</td> <th>  Durbin-Watson:     </th> <td>   2.006</td> \n",
       "</tr>\n",
       "<tr>\n",
       "  <th>Prob(Omnibus):</th>  <td> 0.000</td>   <th>  Jarque-Bera (JB):  </th> <td>1269.367</td> \n",
       "</tr>\n",
       "<tr>\n",
       "  <th>Skew:</th>           <td>-0.298</td>   <th>  Prob(JB):          </th> <td>2.29e-276</td>\n",
       "</tr>\n",
       "<tr>\n",
       "  <th>Kurtosis:</th>       <td> 1.522</td>   <th>  Cond. No.          </th> <td>    960.</td> \n",
       "</tr>\n",
       "</table><br/><br/>Notes:<br/>[1] Standard Errors assume that the covariance matrix of the errors is correctly specified."
      ],
      "text/plain": [
       "<class 'statsmodels.iolib.summary.Summary'>\n",
       "\"\"\"\n",
       "                            OLS Regression Results                            \n",
       "==============================================================================\n",
       "Dep. Variable:               life_sat   R-squared:                       0.107\n",
       "Model:                            OLS   Adj. R-squared:                  0.106\n",
       "Method:                 Least Squares   F-statistic:                     119.7\n",
       "Date:                Thu, 10 Nov 2022   Prob (F-statistic):          1.97e-283\n",
       "Time:                        15:23:59   Log-Likelihood:                -7854.2\n",
       "No. Observations:               11993   AIC:                         1.573e+04\n",
       "Df Residuals:                   11980   BIC:                         1.583e+04\n",
       "Df Model:                          12                                         \n",
       "Covariance Type:            nonrobust                                         \n",
       "===================================================================================\n",
       "                      coef    std err          t      P>|t|      [0.025      0.975]\n",
       "-----------------------------------------------------------------------------------\n",
       "Intercept           0.2260      0.056      4.052      0.000       0.117       0.335\n",
       "C(year)[T.2013]    -0.0396      0.011     -3.613      0.000      -0.061      -0.018\n",
       "C(year)[T.2015]    -0.0122      0.011     -1.126      0.260      -0.034       0.009\n",
       "income              0.0331      0.010      3.302      0.001       0.013       0.053\n",
       "xols_reg.T[0]       0.0038      0.001      7.209      0.000       0.003       0.005\n",
       "xols_reg.T[1]      -0.0196      0.010     -2.006      0.045      -0.039      -0.000\n",
       "xols_reg.T[2]       0.0053      0.001      4.880      0.000       0.003       0.007\n",
       "xols_reg.T[3]      -0.0338      0.003    -13.182      0.000      -0.039      -0.029\n",
       "xols_reg.T[4]       0.1031      0.005     20.715      0.000       0.093       0.113\n",
       "xols_reg.T[5]      -0.0726      0.011     -6.829      0.000      -0.093      -0.052\n",
       "xols_reg.T[6]      -0.0228      0.004     -5.764      0.000      -0.031      -0.015\n",
       "xols_reg.T[7]      -0.0017      0.001     -1.621      0.105      -0.004       0.000\n",
       "xols_reg.T[8]      -0.0173      0.003     -5.478      0.000      -0.024      -0.011\n",
       "==============================================================================\n",
       "Omnibus:                    77993.927   Durbin-Watson:                   2.006\n",
       "Prob(Omnibus):                  0.000   Jarque-Bera (JB):             1269.367\n",
       "Skew:                          -0.298   Prob(JB):                    2.29e-276\n",
       "Kurtosis:                       1.522   Cond. No.                         960.\n",
       "==============================================================================\n",
       "\n",
       "Notes:\n",
       "[1] Standard Errors assume that the covariance matrix of the errors is correctly specified.\n",
       "\"\"\""
      ]
     },
     "execution_count": 54,
     "metadata": {},
     "output_type": "execute_result"
    }
   ],
   "source": [
    "xols_reg = np.array([ps2.age, ps2.male, ps2.yedu, ps2.mstat, ps2.hstatus, ps2.gali, ps2.otrf, ps2.bmi, ps2.cjs])\n",
    "model_OLS = smf.ols('life_sat ~ income + xols_reg.T + C(year)', data=ps2).fit()\n",
    "model_OLS.summary()\n",
    "#print(model_OLS.summary().as_latex())"
   ]
  },
  {
   "cell_type": "code",
   "execution_count": 55,
   "metadata": {},
   "outputs": [
    {
     "name": "stdout",
     "output_type": "stream",
     "text": [
      "We create a DataFrame with the coefficients, t-values and p-values.\n"
     ]
    }
   ],
   "source": [
    "print('We create a DataFrame with the coefficients, t-values and p-values.')\n",
    "\n",
    "res = pd.DataFrame(data=[model_OLS.params, model_OLS.tvalues, model_OLS.pvalues]).T\n",
    "res = res.rename(columns = {0: 'Coeff', 1:'t', 2:'p-value'})"
   ]
  },
  {
   "cell_type": "code",
   "execution_count": 56,
   "metadata": {},
   "outputs": [],
   "source": [
    "res.Coeff = res.Coeff.map(lambda p: round(p, 3))\n",
    "res.t = res.t.map(lambda p: round(p, 3))\n",
    "res['p-value'] = res['p-value'].map(lambda p: round(p,3))"
   ]
  },
  {
   "cell_type": "code",
   "execution_count": 57,
   "metadata": {},
   "outputs": [
    {
     "data": {
      "text/html": [
       "<div>\n",
       "<style scoped>\n",
       "    .dataframe tbody tr th:only-of-type {\n",
       "        vertical-align: middle;\n",
       "    }\n",
       "\n",
       "    .dataframe tbody tr th {\n",
       "        vertical-align: top;\n",
       "    }\n",
       "\n",
       "    .dataframe thead th {\n",
       "        text-align: right;\n",
       "    }\n",
       "</style>\n",
       "<table border=\"1\" class=\"dataframe\">\n",
       "  <thead>\n",
       "    <tr style=\"text-align: right;\">\n",
       "      <th></th>\n",
       "      <th>Coeff</th>\n",
       "      <th>t</th>\n",
       "      <th>p-value</th>\n",
       "    </tr>\n",
       "  </thead>\n",
       "  <tbody>\n",
       "    <tr>\n",
       "      <th>Intercept</th>\n",
       "      <td>0.226</td>\n",
       "      <td>4.052</td>\n",
       "      <td>0.000</td>\n",
       "    </tr>\n",
       "    <tr>\n",
       "      <th>C(year)[T.2013]</th>\n",
       "      <td>-0.040</td>\n",
       "      <td>-3.613</td>\n",
       "      <td>0.000</td>\n",
       "    </tr>\n",
       "    <tr>\n",
       "      <th>C(year)[T.2015]</th>\n",
       "      <td>-0.012</td>\n",
       "      <td>-1.126</td>\n",
       "      <td>0.260</td>\n",
       "    </tr>\n",
       "    <tr>\n",
       "      <th>income</th>\n",
       "      <td>0.033</td>\n",
       "      <td>3.302</td>\n",
       "      <td>0.001</td>\n",
       "    </tr>\n",
       "    <tr>\n",
       "      <th>xols_reg.T[0]</th>\n",
       "      <td>0.004</td>\n",
       "      <td>7.209</td>\n",
       "      <td>0.000</td>\n",
       "    </tr>\n",
       "    <tr>\n",
       "      <th>xols_reg.T[1]</th>\n",
       "      <td>-0.020</td>\n",
       "      <td>-2.006</td>\n",
       "      <td>0.045</td>\n",
       "    </tr>\n",
       "    <tr>\n",
       "      <th>xols_reg.T[2]</th>\n",
       "      <td>0.005</td>\n",
       "      <td>4.880</td>\n",
       "      <td>0.000</td>\n",
       "    </tr>\n",
       "    <tr>\n",
       "      <th>xols_reg.T[3]</th>\n",
       "      <td>-0.034</td>\n",
       "      <td>-13.182</td>\n",
       "      <td>0.000</td>\n",
       "    </tr>\n",
       "    <tr>\n",
       "      <th>xols_reg.T[4]</th>\n",
       "      <td>0.103</td>\n",
       "      <td>20.715</td>\n",
       "      <td>0.000</td>\n",
       "    </tr>\n",
       "    <tr>\n",
       "      <th>xols_reg.T[5]</th>\n",
       "      <td>-0.073</td>\n",
       "      <td>-6.829</td>\n",
       "      <td>0.000</td>\n",
       "    </tr>\n",
       "    <tr>\n",
       "      <th>xols_reg.T[6]</th>\n",
       "      <td>-0.023</td>\n",
       "      <td>-5.764</td>\n",
       "      <td>0.000</td>\n",
       "    </tr>\n",
       "    <tr>\n",
       "      <th>xols_reg.T[7]</th>\n",
       "      <td>-0.002</td>\n",
       "      <td>-1.621</td>\n",
       "      <td>0.105</td>\n",
       "    </tr>\n",
       "    <tr>\n",
       "      <th>xols_reg.T[8]</th>\n",
       "      <td>-0.017</td>\n",
       "      <td>-5.478</td>\n",
       "      <td>0.000</td>\n",
       "    </tr>\n",
       "  </tbody>\n",
       "</table>\n",
       "</div>"
      ],
      "text/plain": [
       "                 Coeff       t  p-value\n",
       "Intercept        0.226   4.052    0.000\n",
       "C(year)[T.2013] -0.040  -3.613    0.000\n",
       "C(year)[T.2015] -0.012  -1.126    0.260\n",
       "income           0.033   3.302    0.001\n",
       "xols_reg.T[0]    0.004   7.209    0.000\n",
       "xols_reg.T[1]   -0.020  -2.006    0.045\n",
       "xols_reg.T[2]    0.005   4.880    0.000\n",
       "xols_reg.T[3]   -0.034 -13.182    0.000\n",
       "xols_reg.T[4]    0.103  20.715    0.000\n",
       "xols_reg.T[5]   -0.073  -6.829    0.000\n",
       "xols_reg.T[6]   -0.023  -5.764    0.000\n",
       "xols_reg.T[7]   -0.002  -1.621    0.105\n",
       "xols_reg.T[8]   -0.017  -5.478    0.000"
      ]
     },
     "execution_count": 57,
     "metadata": {},
     "output_type": "execute_result"
    }
   ],
   "source": [
    "res\n",
    "#print(res.to_latex())  "
   ]
  },
  {
   "cell_type": "code",
   "execution_count": 58,
   "metadata": {},
   "outputs": [
    {
     "name": "stdout",
     "output_type": "stream",
     "text": [
      "We compute another OLS regression with categorical variable outside the control vector\n"
     ]
    },
    {
     "data": {
      "text/html": [
       "<table class=\"simpletable\">\n",
       "<caption>OLS Regression Results</caption>\n",
       "<tr>\n",
       "  <th>Dep. Variable:</th>        <td>life_sat</td>     <th>  R-squared:         </th> <td>   0.114</td> \n",
       "</tr>\n",
       "<tr>\n",
       "  <th>Model:</th>                   <td>OLS</td>       <th>  Adj. R-squared:    </th> <td>   0.113</td> \n",
       "</tr>\n",
       "<tr>\n",
       "  <th>Method:</th>             <td>Least Squares</td>  <th>  F-statistic:       </th> <td>   70.32</td> \n",
       "</tr>\n",
       "<tr>\n",
       "  <th>Date:</th>             <td>Thu, 10 Nov 2022</td> <th>  Prob (F-statistic):</th> <td>7.50e-295</td>\n",
       "</tr>\n",
       "<tr>\n",
       "  <th>Time:</th>                 <td>15:24:51</td>     <th>  Log-Likelihood:    </th> <td> -7804.5</td> \n",
       "</tr>\n",
       "<tr>\n",
       "  <th>No. Observations:</th>      <td> 11993</td>      <th>  AIC:               </th> <td>1.566e+04</td>\n",
       "</tr>\n",
       "<tr>\n",
       "  <th>Df Residuals:</th>          <td> 11970</td>      <th>  BIC:               </th> <td>1.583e+04</td>\n",
       "</tr>\n",
       "<tr>\n",
       "  <th>Df Model:</th>              <td>    22</td>      <th>                     </th>     <td> </td>    \n",
       "</tr>\n",
       "<tr>\n",
       "  <th>Covariance Type:</th>      <td>nonrobust</td>    <th>                     </th>     <td> </td>    \n",
       "</tr>\n",
       "</table>\n",
       "<table class=\"simpletable\">\n",
       "<tr>\n",
       "         <td></td>            <th>coef</th>     <th>std err</th>      <th>t</th>      <th>P>|t|</th>  <th>[0.025</th>    <th>0.975]</th>  \n",
       "</tr>\n",
       "<tr>\n",
       "  <th>Intercept</th>       <td>    0.2246</td> <td>    0.060</td> <td>    3.773</td> <td> 0.000</td> <td>    0.108</td> <td>    0.341</td>\n",
       "</tr>\n",
       "<tr>\n",
       "  <th>C(mstat)[T.2]</th>   <td>   -0.0536</td> <td>    0.036</td> <td>   -1.498</td> <td> 0.134</td> <td>   -0.124</td> <td>    0.017</td>\n",
       "</tr>\n",
       "<tr>\n",
       "  <th>C(mstat)[T.3]</th>   <td>   -0.1357</td> <td>    0.051</td> <td>   -2.655</td> <td> 0.008</td> <td>   -0.236</td> <td>   -0.036</td>\n",
       "</tr>\n",
       "<tr>\n",
       "  <th>C(mstat)[T.4]</th>   <td>   -0.1665</td> <td>    0.019</td> <td>   -8.672</td> <td> 0.000</td> <td>   -0.204</td> <td>   -0.129</td>\n",
       "</tr>\n",
       "<tr>\n",
       "  <th>C(mstat)[T.5]</th>   <td>   -0.1655</td> <td>    0.027</td> <td>   -6.160</td> <td> 0.000</td> <td>   -0.218</td> <td>   -0.113</td>\n",
       "</tr>\n",
       "<tr>\n",
       "  <th>C(mstat)[T.6]</th>   <td>   -0.1373</td> <td>    0.014</td> <td>   -9.472</td> <td> 0.000</td> <td>   -0.166</td> <td>   -0.109</td>\n",
       "</tr>\n",
       "<tr>\n",
       "  <th>C(otrf)[T.2.0]</th>  <td>   -0.1733</td> <td>    0.120</td> <td>   -1.443</td> <td> 0.149</td> <td>   -0.409</td> <td>    0.062</td>\n",
       "</tr>\n",
       "<tr>\n",
       "  <th>C(otrf)[T.3.0]</th>  <td>   -0.0952</td> <td>    0.015</td> <td>   -6.483</td> <td> 0.000</td> <td>   -0.124</td> <td>   -0.066</td>\n",
       "</tr>\n",
       "<tr>\n",
       "  <th>C(otrf)[T.4.0]</th>  <td>   -0.5126</td> <td>    0.268</td> <td>   -1.910</td> <td> 0.056</td> <td>   -1.039</td> <td>    0.014</td>\n",
       "</tr>\n",
       "<tr>\n",
       "  <th>C(otrf)[T.5.0]</th>  <td>   -0.0379</td> <td>    0.018</td> <td>   -2.126</td> <td> 0.034</td> <td>   -0.073</td> <td>   -0.003</td>\n",
       "</tr>\n",
       "<tr>\n",
       "  <th>C(cjs)[T.2.0]</th>   <td>   -0.0041</td> <td>    0.014</td> <td>   -0.297</td> <td> 0.767</td> <td>   -0.031</td> <td>    0.023</td>\n",
       "</tr>\n",
       "<tr>\n",
       "  <th>C(cjs)[T.3.0]</th>   <td>   -0.1943</td> <td>    0.027</td> <td>   -7.065</td> <td> 0.000</td> <td>   -0.248</td> <td>   -0.140</td>\n",
       "</tr>\n",
       "<tr>\n",
       "  <th>C(cjs)[T.4.0]</th>   <td>   -0.1026</td> <td>    0.029</td> <td>   -3.485</td> <td> 0.000</td> <td>   -0.160</td> <td>   -0.045</td>\n",
       "</tr>\n",
       "<tr>\n",
       "  <th>C(cjs)[T.5.0]</th>   <td>   -0.0590</td> <td>    0.013</td> <td>   -4.526</td> <td> 0.000</td> <td>   -0.084</td> <td>   -0.033</td>\n",
       "</tr>\n",
       "<tr>\n",
       "  <th>C(year)[T.2013]</th> <td>   -0.0366</td> <td>    0.011</td> <td>   -3.344</td> <td> 0.001</td> <td>   -0.058</td> <td>   -0.015</td>\n",
       "</tr>\n",
       "<tr>\n",
       "  <th>C(year)[T.2015]</th> <td>   -0.0086</td> <td>    0.011</td> <td>   -0.790</td> <td> 0.429</td> <td>   -0.030</td> <td>    0.013</td>\n",
       "</tr>\n",
       "<tr>\n",
       "  <th>income</th>          <td>    0.0274</td> <td>    0.010</td> <td>    2.740</td> <td> 0.006</td> <td>    0.008</td> <td>    0.047</td>\n",
       "</tr>\n",
       "<tr>\n",
       "  <th>xols_reg2.T[0]</th>  <td>    0.0028</td> <td>    0.001</td> <td>    4.457</td> <td> 0.000</td> <td>    0.002</td> <td>    0.004</td>\n",
       "</tr>\n",
       "<tr>\n",
       "  <th>xols_reg2.T[1]</th>  <td>   -0.0063</td> <td>    0.010</td> <td>   -0.637</td> <td> 0.524</td> <td>   -0.026</td> <td>    0.013</td>\n",
       "</tr>\n",
       "<tr>\n",
       "  <th>xols_reg2.T[2]</th>  <td>    0.0050</td> <td>    0.001</td> <td>    4.541</td> <td> 0.000</td> <td>    0.003</td> <td>    0.007</td>\n",
       "</tr>\n",
       "<tr>\n",
       "  <th>xols_reg2.T[3]</th>  <td>    0.1005</td> <td>    0.005</td> <td>   20.146</td> <td> 0.000</td> <td>    0.091</td> <td>    0.110</td>\n",
       "</tr>\n",
       "<tr>\n",
       "  <th>xols_reg2.T[4]</th>  <td>   -0.0692</td> <td>    0.011</td> <td>   -6.498</td> <td> 0.000</td> <td>   -0.090</td> <td>   -0.048</td>\n",
       "</tr>\n",
       "<tr>\n",
       "  <th>xols_reg2.T[5]</th>  <td>   -0.0017</td> <td>    0.001</td> <td>   -1.621</td> <td> 0.105</td> <td>   -0.004</td> <td>    0.000</td>\n",
       "</tr>\n",
       "</table>\n",
       "<table class=\"simpletable\">\n",
       "<tr>\n",
       "  <th>Omnibus:</th>       <td>85456.725</td> <th>  Durbin-Watson:     </th> <td>   2.010</td> \n",
       "</tr>\n",
       "<tr>\n",
       "  <th>Prob(Omnibus):</th>  <td> 0.000</td>   <th>  Jarque-Bera (JB):  </th> <td>1234.242</td> \n",
       "</tr>\n",
       "<tr>\n",
       "  <th>Skew:</th>           <td>-0.300</td>   <th>  Prob(JB):          </th> <td>9.72e-269</td>\n",
       "</tr>\n",
       "<tr>\n",
       "  <th>Kurtosis:</th>       <td> 1.548</td>   <th>  Cond. No.          </th> <td>4.62e+03</td> \n",
       "</tr>\n",
       "</table><br/><br/>Notes:<br/>[1] Standard Errors assume that the covariance matrix of the errors is correctly specified.<br/>[2] The condition number is large, 4.62e+03. This might indicate that there are<br/>strong multicollinearity or other numerical problems."
      ],
      "text/plain": [
       "<class 'statsmodels.iolib.summary.Summary'>\n",
       "\"\"\"\n",
       "                            OLS Regression Results                            \n",
       "==============================================================================\n",
       "Dep. Variable:               life_sat   R-squared:                       0.114\n",
       "Model:                            OLS   Adj. R-squared:                  0.113\n",
       "Method:                 Least Squares   F-statistic:                     70.32\n",
       "Date:                Thu, 10 Nov 2022   Prob (F-statistic):          7.50e-295\n",
       "Time:                        15:24:51   Log-Likelihood:                -7804.5\n",
       "No. Observations:               11993   AIC:                         1.566e+04\n",
       "Df Residuals:                   11970   BIC:                         1.583e+04\n",
       "Df Model:                          22                                         \n",
       "Covariance Type:            nonrobust                                         \n",
       "===================================================================================\n",
       "                      coef    std err          t      P>|t|      [0.025      0.975]\n",
       "-----------------------------------------------------------------------------------\n",
       "Intercept           0.2246      0.060      3.773      0.000       0.108       0.341\n",
       "C(mstat)[T.2]      -0.0536      0.036     -1.498      0.134      -0.124       0.017\n",
       "C(mstat)[T.3]      -0.1357      0.051     -2.655      0.008      -0.236      -0.036\n",
       "C(mstat)[T.4]      -0.1665      0.019     -8.672      0.000      -0.204      -0.129\n",
       "C(mstat)[T.5]      -0.1655      0.027     -6.160      0.000      -0.218      -0.113\n",
       "C(mstat)[T.6]      -0.1373      0.014     -9.472      0.000      -0.166      -0.109\n",
       "C(otrf)[T.2.0]     -0.1733      0.120     -1.443      0.149      -0.409       0.062\n",
       "C(otrf)[T.3.0]     -0.0952      0.015     -6.483      0.000      -0.124      -0.066\n",
       "C(otrf)[T.4.0]     -0.5126      0.268     -1.910      0.056      -1.039       0.014\n",
       "C(otrf)[T.5.0]     -0.0379      0.018     -2.126      0.034      -0.073      -0.003\n",
       "C(cjs)[T.2.0]      -0.0041      0.014     -0.297      0.767      -0.031       0.023\n",
       "C(cjs)[T.3.0]      -0.1943      0.027     -7.065      0.000      -0.248      -0.140\n",
       "C(cjs)[T.4.0]      -0.1026      0.029     -3.485      0.000      -0.160      -0.045\n",
       "C(cjs)[T.5.0]      -0.0590      0.013     -4.526      0.000      -0.084      -0.033\n",
       "C(year)[T.2013]    -0.0366      0.011     -3.344      0.001      -0.058      -0.015\n",
       "C(year)[T.2015]    -0.0086      0.011     -0.790      0.429      -0.030       0.013\n",
       "income              0.0274      0.010      2.740      0.006       0.008       0.047\n",
       "xols_reg2.T[0]      0.0028      0.001      4.457      0.000       0.002       0.004\n",
       "xols_reg2.T[1]     -0.0063      0.010     -0.637      0.524      -0.026       0.013\n",
       "xols_reg2.T[2]      0.0050      0.001      4.541      0.000       0.003       0.007\n",
       "xols_reg2.T[3]      0.1005      0.005     20.146      0.000       0.091       0.110\n",
       "xols_reg2.T[4]     -0.0692      0.011     -6.498      0.000      -0.090      -0.048\n",
       "xols_reg2.T[5]     -0.0017      0.001     -1.621      0.105      -0.004       0.000\n",
       "==============================================================================\n",
       "Omnibus:                    85456.725   Durbin-Watson:                   2.010\n",
       "Prob(Omnibus):                  0.000   Jarque-Bera (JB):             1234.242\n",
       "Skew:                          -0.300   Prob(JB):                    9.72e-269\n",
       "Kurtosis:                       1.548   Cond. No.                     4.62e+03\n",
       "==============================================================================\n",
       "\n",
       "Notes:\n",
       "[1] Standard Errors assume that the covariance matrix of the errors is correctly specified.\n",
       "[2] The condition number is large, 4.62e+03. This might indicate that there are\n",
       "strong multicollinearity or other numerical problems.\n",
       "\"\"\""
      ]
     },
     "execution_count": 58,
     "metadata": {},
     "output_type": "execute_result"
    }
   ],
   "source": [
    "print('We compute another OLS regression with categorical variable outside the control vector')\n",
    "\n",
    "xols_reg2 = np.array([ps2.age, ps2.male, ps2.yedu, ps2.hstatus, ps2.gali, ps2.bmi])\n",
    "model2_OLS = smf.ols('life_sat ~ income + xols_reg2.T + C(mstat) + C(otrf) + C(cjs) + C(year)', data=ps2).fit()\n",
    "model2_OLS.summary()\n",
    "#print(model2_OLS.summary().as_latex())"
   ]
  },
  {
   "cell_type": "code",
   "execution_count": 59,
   "metadata": {},
   "outputs": [
    {
     "name": "stdout",
     "output_type": "stream",
     "text": [
      "We create the DataFrame with the coefficients, t-values and p-values\n"
     ]
    }
   ],
   "source": [
    "print('We create the DataFrame with the coefficients, t-values and p-values')\n",
    "\n",
    "res2 = pd.DataFrame(data=[model2_OLS.params, model2_OLS.tvalues, model2_OLS.pvalues]).T\n",
    "res2 = res2.rename(columns = {0: 'Coeff', 1:'t', 2:'p-value'})"
   ]
  },
  {
   "cell_type": "code",
   "execution_count": 60,
   "metadata": {},
   "outputs": [],
   "source": [
    "res2.Coeff = res2.Coeff.map(lambda p: round(p, 3))\n",
    "res2.t = res2.t.map(lambda p: round(p, 3))\n",
    "res2['p-value'] = res2['p-value'].map(lambda p: round(p,3))"
   ]
  },
  {
   "cell_type": "code",
   "execution_count": 61,
   "metadata": {},
   "outputs": [
    {
     "data": {
      "text/html": [
       "<div>\n",
       "<style scoped>\n",
       "    .dataframe tbody tr th:only-of-type {\n",
       "        vertical-align: middle;\n",
       "    }\n",
       "\n",
       "    .dataframe tbody tr th {\n",
       "        vertical-align: top;\n",
       "    }\n",
       "\n",
       "    .dataframe thead th {\n",
       "        text-align: right;\n",
       "    }\n",
       "</style>\n",
       "<table border=\"1\" class=\"dataframe\">\n",
       "  <thead>\n",
       "    <tr style=\"text-align: right;\">\n",
       "      <th></th>\n",
       "      <th>Coeff</th>\n",
       "      <th>t</th>\n",
       "      <th>p-value</th>\n",
       "    </tr>\n",
       "  </thead>\n",
       "  <tbody>\n",
       "    <tr>\n",
       "      <th>Intercept</th>\n",
       "      <td>0.225</td>\n",
       "      <td>3.773</td>\n",
       "      <td>0.000</td>\n",
       "    </tr>\n",
       "    <tr>\n",
       "      <th>C(mstat)[T.2]</th>\n",
       "      <td>-0.054</td>\n",
       "      <td>-1.498</td>\n",
       "      <td>0.134</td>\n",
       "    </tr>\n",
       "    <tr>\n",
       "      <th>C(mstat)[T.3]</th>\n",
       "      <td>-0.136</td>\n",
       "      <td>-2.655</td>\n",
       "      <td>0.008</td>\n",
       "    </tr>\n",
       "    <tr>\n",
       "      <th>C(mstat)[T.4]</th>\n",
       "      <td>-0.166</td>\n",
       "      <td>-8.672</td>\n",
       "      <td>0.000</td>\n",
       "    </tr>\n",
       "    <tr>\n",
       "      <th>C(mstat)[T.5]</th>\n",
       "      <td>-0.165</td>\n",
       "      <td>-6.160</td>\n",
       "      <td>0.000</td>\n",
       "    </tr>\n",
       "    <tr>\n",
       "      <th>C(mstat)[T.6]</th>\n",
       "      <td>-0.137</td>\n",
       "      <td>-9.472</td>\n",
       "      <td>0.000</td>\n",
       "    </tr>\n",
       "    <tr>\n",
       "      <th>C(otrf)[T.2.0]</th>\n",
       "      <td>-0.173</td>\n",
       "      <td>-1.443</td>\n",
       "      <td>0.149</td>\n",
       "    </tr>\n",
       "    <tr>\n",
       "      <th>C(otrf)[T.3.0]</th>\n",
       "      <td>-0.095</td>\n",
       "      <td>-6.483</td>\n",
       "      <td>0.000</td>\n",
       "    </tr>\n",
       "    <tr>\n",
       "      <th>C(otrf)[T.4.0]</th>\n",
       "      <td>-0.513</td>\n",
       "      <td>-1.910</td>\n",
       "      <td>0.056</td>\n",
       "    </tr>\n",
       "    <tr>\n",
       "      <th>C(otrf)[T.5.0]</th>\n",
       "      <td>-0.038</td>\n",
       "      <td>-2.126</td>\n",
       "      <td>0.034</td>\n",
       "    </tr>\n",
       "    <tr>\n",
       "      <th>C(cjs)[T.2.0]</th>\n",
       "      <td>-0.004</td>\n",
       "      <td>-0.297</td>\n",
       "      <td>0.767</td>\n",
       "    </tr>\n",
       "    <tr>\n",
       "      <th>C(cjs)[T.3.0]</th>\n",
       "      <td>-0.194</td>\n",
       "      <td>-7.065</td>\n",
       "      <td>0.000</td>\n",
       "    </tr>\n",
       "    <tr>\n",
       "      <th>C(cjs)[T.4.0]</th>\n",
       "      <td>-0.103</td>\n",
       "      <td>-3.485</td>\n",
       "      <td>0.000</td>\n",
       "    </tr>\n",
       "    <tr>\n",
       "      <th>C(cjs)[T.5.0]</th>\n",
       "      <td>-0.059</td>\n",
       "      <td>-4.526</td>\n",
       "      <td>0.000</td>\n",
       "    </tr>\n",
       "    <tr>\n",
       "      <th>C(year)[T.2013]</th>\n",
       "      <td>-0.037</td>\n",
       "      <td>-3.344</td>\n",
       "      <td>0.001</td>\n",
       "    </tr>\n",
       "    <tr>\n",
       "      <th>C(year)[T.2015]</th>\n",
       "      <td>-0.009</td>\n",
       "      <td>-0.790</td>\n",
       "      <td>0.429</td>\n",
       "    </tr>\n",
       "    <tr>\n",
       "      <th>income</th>\n",
       "      <td>0.027</td>\n",
       "      <td>2.740</td>\n",
       "      <td>0.006</td>\n",
       "    </tr>\n",
       "    <tr>\n",
       "      <th>xols_reg2.T[0]</th>\n",
       "      <td>0.003</td>\n",
       "      <td>4.457</td>\n",
       "      <td>0.000</td>\n",
       "    </tr>\n",
       "    <tr>\n",
       "      <th>xols_reg2.T[1]</th>\n",
       "      <td>-0.006</td>\n",
       "      <td>-0.637</td>\n",
       "      <td>0.524</td>\n",
       "    </tr>\n",
       "    <tr>\n",
       "      <th>xols_reg2.T[2]</th>\n",
       "      <td>0.005</td>\n",
       "      <td>4.541</td>\n",
       "      <td>0.000</td>\n",
       "    </tr>\n",
       "    <tr>\n",
       "      <th>xols_reg2.T[3]</th>\n",
       "      <td>0.100</td>\n",
       "      <td>20.146</td>\n",
       "      <td>0.000</td>\n",
       "    </tr>\n",
       "    <tr>\n",
       "      <th>xols_reg2.T[4]</th>\n",
       "      <td>-0.069</td>\n",
       "      <td>-6.498</td>\n",
       "      <td>0.000</td>\n",
       "    </tr>\n",
       "    <tr>\n",
       "      <th>xols_reg2.T[5]</th>\n",
       "      <td>-0.002</td>\n",
       "      <td>-1.621</td>\n",
       "      <td>0.105</td>\n",
       "    </tr>\n",
       "  </tbody>\n",
       "</table>\n",
       "</div>"
      ],
      "text/plain": [
       "                 Coeff       t  p-value\n",
       "Intercept        0.225   3.773    0.000\n",
       "C(mstat)[T.2]   -0.054  -1.498    0.134\n",
       "C(mstat)[T.3]   -0.136  -2.655    0.008\n",
       "C(mstat)[T.4]   -0.166  -8.672    0.000\n",
       "C(mstat)[T.5]   -0.165  -6.160    0.000\n",
       "C(mstat)[T.6]   -0.137  -9.472    0.000\n",
       "C(otrf)[T.2.0]  -0.173  -1.443    0.149\n",
       "C(otrf)[T.3.0]  -0.095  -6.483    0.000\n",
       "C(otrf)[T.4.0]  -0.513  -1.910    0.056\n",
       "C(otrf)[T.5.0]  -0.038  -2.126    0.034\n",
       "C(cjs)[T.2.0]   -0.004  -0.297    0.767\n",
       "C(cjs)[T.3.0]   -0.194  -7.065    0.000\n",
       "C(cjs)[T.4.0]   -0.103  -3.485    0.000\n",
       "C(cjs)[T.5.0]   -0.059  -4.526    0.000\n",
       "C(year)[T.2013] -0.037  -3.344    0.001\n",
       "C(year)[T.2015] -0.009  -0.790    0.429\n",
       "income           0.027   2.740    0.006\n",
       "xols_reg2.T[0]   0.003   4.457    0.000\n",
       "xols_reg2.T[1]  -0.006  -0.637    0.524\n",
       "xols_reg2.T[2]   0.005   4.541    0.000\n",
       "xols_reg2.T[3]   0.100  20.146    0.000\n",
       "xols_reg2.T[4]  -0.069  -6.498    0.000\n",
       "xols_reg2.T[5]  -0.002  -1.621    0.105"
      ]
     },
     "execution_count": 61,
     "metadata": {},
     "output_type": "execute_result"
    }
   ],
   "source": [
    "res2\n",
    "#print(res2.to_latex()) "
   ]
  },
  {
   "cell_type": "code",
   "execution_count": 62,
   "metadata": {},
   "outputs": [
    {
     "name": "stdout",
     "output_type": "stream",
     "text": [
      "There are 9 values outside the admissible range [0,1] which is the 0.075 % of the total.\n",
      "Now we assume a threshold of 0.5 and classify our fitted values in the two classes.\n"
     ]
    }
   ],
   "source": [
    "m1 = model2_OLS.fittedvalues>1\n",
    "m0 = model2_OLS.fittedvalues<0\n",
    "out_r = sum(m0) + sum(m1)\n",
    "pct_out_r = round(((sum(m0) + sum(m1))/len(model2_OLS.fittedvalues))*100, 4)\n",
    "\n",
    "print('There are', out_r, 'values outside the admissible range [0,1] which is the', pct_out_r, '% of the total.')\n",
    "print('Now we assume a threshold of 0.5 and classify our fitted values in the two classes.')"
   ]
  },
  {
   "cell_type": "code",
   "execution_count": 63,
   "metadata": {},
   "outputs": [
    {
     "name": "stdout",
     "output_type": "stream",
     "text": [
      "We gather the true values of life satisfaction and the ones predicted from the ols regression.\n",
      "The overall matrix has numerosity of 11993\n"
     ]
    }
   ],
   "source": [
    "fittval_ols = pd.Series(model2_OLS.fittedvalues)\n",
    "result = pd.concat([ps2.life_sat, fittval_ols], axis=1)\n",
    "result = result.rename(columns = {0:'fit_values'})\n",
    "\n",
    "print('We gather the true values of life satisfaction and the ones predicted from the ols regression.')\n",
    "print('The overall matrix has numerosity of', len(result))"
   ]
  },
  {
   "cell_type": "code",
   "execution_count": 64,
   "metadata": {},
   "outputs": [
    {
     "name": "stdout",
     "output_type": "stream",
     "text": [
      "We drop the units that have a fitted value outside the admissible range\n",
      "The new matrix numerosity is 11984\n"
     ]
    }
   ],
   "source": [
    "result = result.drop(result[result.fit_values < 0].index)\n",
    "result = result.drop(result[result.fit_values > 1].index)\n",
    "\n",
    "print('We drop the units that have a fitted value outside the admissible range')\n",
    "print('The new matrix numerosity is', len(result) )"
   ]
  },
  {
   "cell_type": "code",
   "execution_count": 65,
   "metadata": {},
   "outputs": [
    {
     "name": "stdout",
     "output_type": "stream",
     "text": [
      "We classify the fitted values according to the default treshold.\n"
     ]
    }
   ],
   "source": [
    "print('We classify the fitted values according to the default treshold.')\n",
    "\n",
    "treshold = 0.5\n",
    "fitdum = []\n",
    "\n",
    "for i in result.fit_values:\n",
    "    if i>treshold:\n",
    "        i=1\n",
    "        fitdum.append(i)\n",
    "    else:\n",
    "        i=0\n",
    "        fitdum.append(i)"
   ]
  },
  {
   "cell_type": "code",
   "execution_count": 66,
   "metadata": {},
   "outputs": [
    {
     "name": "stdout",
     "output_type": "stream",
     "text": [
      "The final matrix includes observed data, fitted values and their classification:\n"
     ]
    },
    {
     "data": {
      "text/html": [
       "<div>\n",
       "<style scoped>\n",
       "    .dataframe tbody tr th:only-of-type {\n",
       "        vertical-align: middle;\n",
       "    }\n",
       "\n",
       "    .dataframe tbody tr th {\n",
       "        vertical-align: top;\n",
       "    }\n",
       "\n",
       "    .dataframe thead th {\n",
       "        text-align: right;\n",
       "    }\n",
       "</style>\n",
       "<table border=\"1\" class=\"dataframe\">\n",
       "  <thead>\n",
       "    <tr style=\"text-align: right;\">\n",
       "      <th></th>\n",
       "      <th>life_sat</th>\n",
       "      <th>fit_values</th>\n",
       "      <th>classif</th>\n",
       "    </tr>\n",
       "  </thead>\n",
       "  <tbody>\n",
       "    <tr>\n",
       "      <th>0</th>\n",
       "      <td>1.0</td>\n",
       "      <td>0.358154</td>\n",
       "      <td>0</td>\n",
       "    </tr>\n",
       "    <tr>\n",
       "      <th>1</th>\n",
       "      <td>0.0</td>\n",
       "      <td>0.528109</td>\n",
       "      <td>1</td>\n",
       "    </tr>\n",
       "    <tr>\n",
       "      <th>2</th>\n",
       "      <td>0.0</td>\n",
       "      <td>0.646946</td>\n",
       "      <td>1</td>\n",
       "    </tr>\n",
       "    <tr>\n",
       "      <th>3</th>\n",
       "      <td>1.0</td>\n",
       "      <td>0.758309</td>\n",
       "      <td>1</td>\n",
       "    </tr>\n",
       "    <tr>\n",
       "      <th>4</th>\n",
       "      <td>0.0</td>\n",
       "      <td>0.535108</td>\n",
       "      <td>1</td>\n",
       "    </tr>\n",
       "  </tbody>\n",
       "</table>\n",
       "</div>"
      ],
      "text/plain": [
       "   life_sat  fit_values  classif\n",
       "0       1.0    0.358154        0\n",
       "1       0.0    0.528109        1\n",
       "2       0.0    0.646946        1\n",
       "3       1.0    0.758309        1\n",
       "4       0.0    0.535108        1"
      ]
     },
     "execution_count": 66,
     "metadata": {},
     "output_type": "execute_result"
    }
   ],
   "source": [
    "print('The final matrix includes observed data, fitted values and their classification:')\n",
    "\n",
    "fitdum = pd.DataFrame(fitdum)\n",
    "fitdum = fitdum.set_index(result.index)\n",
    "result2 = pd.concat([result, fitdum], axis=1)\n",
    "result2 = result2.rename(columns={0:'classif'})\n",
    "result2.head()"
   ]
  },
  {
   "cell_type": "code",
   "execution_count": 67,
   "metadata": {},
   "outputs": [
    {
     "name": "stdout",
     "output_type": "stream",
     "text": [
      "Finally, we compute a bivariate table to identify the amount of corrected predicted units\n"
     ]
    },
    {
     "data": {
      "text/html": [
       "<div>\n",
       "<style scoped>\n",
       "    .dataframe tbody tr th:only-of-type {\n",
       "        vertical-align: middle;\n",
       "    }\n",
       "\n",
       "    .dataframe tbody tr th {\n",
       "        vertical-align: top;\n",
       "    }\n",
       "\n",
       "    .dataframe thead th {\n",
       "        text-align: right;\n",
       "    }\n",
       "</style>\n",
       "<table border=\"1\" class=\"dataframe\">\n",
       "  <thead>\n",
       "    <tr style=\"text-align: right;\">\n",
       "      <th>classif</th>\n",
       "      <th>0</th>\n",
       "      <th>1</th>\n",
       "    </tr>\n",
       "    <tr>\n",
       "      <th>life_sat</th>\n",
       "      <th></th>\n",
       "      <th></th>\n",
       "    </tr>\n",
       "  </thead>\n",
       "  <tbody>\n",
       "    <tr>\n",
       "      <th>0.0</th>\n",
       "      <td>2245</td>\n",
       "      <td>2738</td>\n",
       "    </tr>\n",
       "    <tr>\n",
       "      <th>1.0</th>\n",
       "      <td>1304</td>\n",
       "      <td>5697</td>\n",
       "    </tr>\n",
       "  </tbody>\n",
       "</table>\n",
       "</div>"
      ],
      "text/plain": [
       "classif      0     1\n",
       "life_sat            \n",
       "0.0       2245  2738\n",
       "1.0       1304  5697"
      ]
     },
     "execution_count": 67,
     "metadata": {},
     "output_type": "execute_result"
    }
   ],
   "source": [
    "cross = pd.crosstab(result2.life_sat, result2.classif)\n",
    "cross.dfi.export('cross_ols.png')\n",
    "\n",
    "print('Finally, we compute a bivariate table to identify the amount of corrected predicted units')\n",
    "cross"
   ]
  },
  {
   "cell_type": "code",
   "execution_count": 68,
   "metadata": {},
   "outputs": [
    {
     "name": "stdout",
     "output_type": "stream",
     "text": [
      "The ols predicts the 66.27 % correctly and the 33.73 % wrong.\n"
     ]
    }
   ],
   "source": [
    "tot_ols = cross.sum()[0]+cross.sum()[1]\n",
    "pct_corr_ols = round(((cross[0][0]+cross[1][1])/tot_ols)*100,2) \n",
    "pct_wrong_ols = round(((cross[0][1]+cross[1][0])/tot_ols)*100,2)\n",
    "\n",
    "print('The ols predicts the', pct_corr_ols, '% correctly and the', pct_wrong_ols, '% wrong.')"
   ]
  },
  {
   "cell_type": "code",
   "execution_count": 69,
   "metadata": {},
   "outputs": [
    {
     "name": "stdout",
     "output_type": "stream",
     "text": [
      "The ols predict the 29.61 % of people not satisifed and the 70.39 % of people satisfied.\n",
      "However, our dataset included 41.62 % of people not satisfied and 58.38 % satisfied.\n"
     ]
    }
   ],
   "source": [
    "pred_zero_ols = round((cross.sum()[0]/tot_ols)*100,2)\n",
    "pred_one_ols = round((cross.sum()[1]/tot_ols)*100,2)\n",
    "\n",
    "print('The ols predict the', pred_zero_ols, '% of people not satisifed and the', pred_one_ols, '% of people satisfied.')\n",
    "print('However, our dataset included', pct_zero, '% of people not satisfied and', pct_one, '% satisfied.')"
   ]
  },
  {
   "cell_type": "markdown",
   "metadata": {},
   "source": [
    "## Probit Regression"
   ]
  },
  {
   "cell_type": "code",
   "execution_count": 70,
   "metadata": {},
   "outputs": [
    {
     "name": "stdout",
     "output_type": "stream",
     "text": [
      "Warning: Maximum number of iterations has been exceeded.\n",
      "         Current function value: 0.619059\n",
      "         Iterations: 35\n"
     ]
    },
    {
     "name": "stderr",
     "output_type": "stream",
     "text": [
      "C:\\Anaconda37\\lib\\site-packages\\statsmodels\\base\\model.py:566: ConvergenceWarning: Maximum Likelihood optimization failed to converge. Check mle_retvals\n",
      "  warnings.warn(\"Maximum Likelihood optimization failed to \"\n"
     ]
    },
    {
     "data": {
      "text/html": [
       "<table class=\"simpletable\">\n",
       "<caption>Probit Regression Results</caption>\n",
       "<tr>\n",
       "  <th>Dep. Variable:</th>       <td>life_sat</td>     <th>  No. Observations:  </th>   <td> 11993</td>  \n",
       "</tr>\n",
       "<tr>\n",
       "  <th>Model:</th>                <td>Probit</td>      <th>  Df Residuals:      </th>   <td> 11970</td>  \n",
       "</tr>\n",
       "<tr>\n",
       "  <th>Method:</th>                 <td>MLE</td>       <th>  Df Model:          </th>   <td>    22</td>  \n",
       "</tr>\n",
       "<tr>\n",
       "  <th>Date:</th>            <td>Thu, 10 Nov 2022</td> <th>  Pseudo R-squ.:     </th>   <td>0.08831</td> \n",
       "</tr>\n",
       "<tr>\n",
       "  <th>Time:</th>                <td>15:27:55</td>     <th>  Log-Likelihood:    </th>  <td> -7424.4</td> \n",
       "</tr>\n",
       "<tr>\n",
       "  <th>converged:</th>             <td>False</td>      <th>  LL-Null:           </th>  <td> -8143.5</td> \n",
       "</tr>\n",
       "<tr>\n",
       "  <th>Covariance Type:</th>     <td>nonrobust</td>    <th>  LLR p-value:       </th> <td>4.972e-291</td>\n",
       "</tr>\n",
       "</table>\n",
       "<table class=\"simpletable\">\n",
       "<tr>\n",
       "         <td></td>            <th>coef</th>     <th>std err</th>      <th>z</th>      <th>P>|z|</th>  <th>[0.025</th>    <th>0.975]</th>  \n",
       "</tr>\n",
       "<tr>\n",
       "  <th>Intercept</th>       <td>   -0.8141</td> <td>    0.168</td> <td>   -4.836</td> <td> 0.000</td> <td>   -1.144</td> <td>   -0.484</td>\n",
       "</tr>\n",
       "<tr>\n",
       "  <th>C(mstat)[T.2]</th>   <td>   -0.1572</td> <td>    0.100</td> <td>   -1.569</td> <td> 0.117</td> <td>   -0.354</td> <td>    0.039</td>\n",
       "</tr>\n",
       "<tr>\n",
       "  <th>C(mstat)[T.3]</th>   <td>   -0.3769</td> <td>    0.145</td> <td>   -2.603</td> <td> 0.009</td> <td>   -0.661</td> <td>   -0.093</td>\n",
       "</tr>\n",
       "<tr>\n",
       "  <th>C(mstat)[T.4]</th>   <td>   -0.4577</td> <td>    0.054</td> <td>   -8.507</td> <td> 0.000</td> <td>   -0.563</td> <td>   -0.352</td>\n",
       "</tr>\n",
       "<tr>\n",
       "  <th>C(mstat)[T.5]</th>   <td>   -0.4543</td> <td>    0.075</td> <td>   -6.081</td> <td> 0.000</td> <td>   -0.601</td> <td>   -0.308</td>\n",
       "</tr>\n",
       "<tr>\n",
       "  <th>C(mstat)[T.6]</th>   <td>   -0.3688</td> <td>    0.040</td> <td>   -9.123</td> <td> 0.000</td> <td>   -0.448</td> <td>   -0.290</td>\n",
       "</tr>\n",
       "<tr>\n",
       "  <th>C(otrf)[T.2.0]</th>  <td>   -0.5001</td> <td>    0.342</td> <td>   -1.461</td> <td> 0.144</td> <td>   -1.171</td> <td>    0.171</td>\n",
       "</tr>\n",
       "<tr>\n",
       "  <th>C(otrf)[T.3.0]</th>  <td>   -0.2629</td> <td>    0.041</td> <td>   -6.401</td> <td> 0.000</td> <td>   -0.343</td> <td>   -0.182</td>\n",
       "</tr>\n",
       "<tr>\n",
       "  <th>C(otrf)[T.4.0]</th>  <td>   -6.7854</td> <td> 7198.490</td> <td>   -0.001</td> <td> 0.999</td> <td>-1.41e+04</td> <td> 1.41e+04</td>\n",
       "</tr>\n",
       "<tr>\n",
       "  <th>C(otrf)[T.5.0]</th>  <td>   -0.1065</td> <td>    0.050</td> <td>   -2.141</td> <td> 0.032</td> <td>   -0.204</td> <td>   -0.009</td>\n",
       "</tr>\n",
       "<tr>\n",
       "  <th>C(cjs)[T.2.0]</th>   <td>   -0.0064</td> <td>    0.040</td> <td>   -0.161</td> <td> 0.872</td> <td>   -0.084</td> <td>    0.071</td>\n",
       "</tr>\n",
       "<tr>\n",
       "  <th>C(cjs)[T.3.0]</th>   <td>   -0.5345</td> <td>    0.078</td> <td>   -6.886</td> <td> 0.000</td> <td>   -0.687</td> <td>   -0.382</td>\n",
       "</tr>\n",
       "<tr>\n",
       "  <th>C(cjs)[T.4.0]</th>   <td>   -0.2788</td> <td>    0.085</td> <td>   -3.280</td> <td> 0.001</td> <td>   -0.445</td> <td>   -0.112</td>\n",
       "</tr>\n",
       "<tr>\n",
       "  <th>C(cjs)[T.5.0]</th>   <td>   -0.1614</td> <td>    0.037</td> <td>   -4.420</td> <td> 0.000</td> <td>   -0.233</td> <td>   -0.090</td>\n",
       "</tr>\n",
       "<tr>\n",
       "  <th>C(year)[T.2013]</th> <td>   -0.1034</td> <td>    0.031</td> <td>   -3.342</td> <td> 0.001</td> <td>   -0.164</td> <td>   -0.043</td>\n",
       "</tr>\n",
       "<tr>\n",
       "  <th>C(year)[T.2015]</th> <td>   -0.0265</td> <td>    0.031</td> <td>   -0.862</td> <td> 0.389</td> <td>   -0.087</td> <td>    0.034</td>\n",
       "</tr>\n",
       "<tr>\n",
       "  <th>income</th>          <td>    0.0769</td> <td>    0.029</td> <td>    2.675</td> <td> 0.007</td> <td>    0.021</td> <td>    0.133</td>\n",
       "</tr>\n",
       "<tr>\n",
       "  <th>xpr_reg.T[0]</th>    <td>    0.0079</td> <td>    0.002</td> <td>    4.538</td> <td> 0.000</td> <td>    0.005</td> <td>    0.011</td>\n",
       "</tr>\n",
       "<tr>\n",
       "  <th>xpr_reg.T[1]</th>    <td>   -0.0198</td> <td>    0.028</td> <td>   -0.705</td> <td> 0.481</td> <td>   -0.075</td> <td>    0.035</td>\n",
       "</tr>\n",
       "<tr>\n",
       "  <th>xpr_reg.T[2]</th>    <td>    0.0140</td> <td>    0.003</td> <td>    4.498</td> <td> 0.000</td> <td>    0.008</td> <td>    0.020</td>\n",
       "</tr>\n",
       "<tr>\n",
       "  <th>xpr_reg.T[3]</th>    <td>    0.2868</td> <td>    0.014</td> <td>   19.800</td> <td> 0.000</td> <td>    0.258</td> <td>    0.315</td>\n",
       "</tr>\n",
       "<tr>\n",
       "  <th>xpr_reg.T[4]</th>    <td>   -0.1767</td> <td>    0.030</td> <td>   -5.984</td> <td> 0.000</td> <td>   -0.235</td> <td>   -0.119</td>\n",
       "</tr>\n",
       "<tr>\n",
       "  <th>xpr_reg.T[5]</th>    <td>   -0.0047</td> <td>    0.003</td> <td>   -1.640</td> <td> 0.101</td> <td>   -0.010</td> <td>    0.001</td>\n",
       "</tr>\n",
       "</table>"
      ],
      "text/plain": [
       "<class 'statsmodels.iolib.summary.Summary'>\n",
       "\"\"\"\n",
       "                          Probit Regression Results                           \n",
       "==============================================================================\n",
       "Dep. Variable:               life_sat   No. Observations:                11993\n",
       "Model:                         Probit   Df Residuals:                    11970\n",
       "Method:                           MLE   Df Model:                           22\n",
       "Date:                Thu, 10 Nov 2022   Pseudo R-squ.:                 0.08831\n",
       "Time:                        15:27:55   Log-Likelihood:                -7424.4\n",
       "converged:                      False   LL-Null:                       -8143.5\n",
       "Covariance Type:            nonrobust   LLR p-value:                4.972e-291\n",
       "===================================================================================\n",
       "                      coef    std err          z      P>|z|      [0.025      0.975]\n",
       "-----------------------------------------------------------------------------------\n",
       "Intercept          -0.8141      0.168     -4.836      0.000      -1.144      -0.484\n",
       "C(mstat)[T.2]      -0.1572      0.100     -1.569      0.117      -0.354       0.039\n",
       "C(mstat)[T.3]      -0.3769      0.145     -2.603      0.009      -0.661      -0.093\n",
       "C(mstat)[T.4]      -0.4577      0.054     -8.507      0.000      -0.563      -0.352\n",
       "C(mstat)[T.5]      -0.4543      0.075     -6.081      0.000      -0.601      -0.308\n",
       "C(mstat)[T.6]      -0.3688      0.040     -9.123      0.000      -0.448      -0.290\n",
       "C(otrf)[T.2.0]     -0.5001      0.342     -1.461      0.144      -1.171       0.171\n",
       "C(otrf)[T.3.0]     -0.2629      0.041     -6.401      0.000      -0.343      -0.182\n",
       "C(otrf)[T.4.0]     -6.7854   7198.490     -0.001      0.999   -1.41e+04    1.41e+04\n",
       "C(otrf)[T.5.0]     -0.1065      0.050     -2.141      0.032      -0.204      -0.009\n",
       "C(cjs)[T.2.0]      -0.0064      0.040     -0.161      0.872      -0.084       0.071\n",
       "C(cjs)[T.3.0]      -0.5345      0.078     -6.886      0.000      -0.687      -0.382\n",
       "C(cjs)[T.4.0]      -0.2788      0.085     -3.280      0.001      -0.445      -0.112\n",
       "C(cjs)[T.5.0]      -0.1614      0.037     -4.420      0.000      -0.233      -0.090\n",
       "C(year)[T.2013]    -0.1034      0.031     -3.342      0.001      -0.164      -0.043\n",
       "C(year)[T.2015]    -0.0265      0.031     -0.862      0.389      -0.087       0.034\n",
       "income              0.0769      0.029      2.675      0.007       0.021       0.133\n",
       "xpr_reg.T[0]        0.0079      0.002      4.538      0.000       0.005       0.011\n",
       "xpr_reg.T[1]       -0.0198      0.028     -0.705      0.481      -0.075       0.035\n",
       "xpr_reg.T[2]        0.0140      0.003      4.498      0.000       0.008       0.020\n",
       "xpr_reg.T[3]        0.2868      0.014     19.800      0.000       0.258       0.315\n",
       "xpr_reg.T[4]       -0.1767      0.030     -5.984      0.000      -0.235      -0.119\n",
       "xpr_reg.T[5]       -0.0047      0.003     -1.640      0.101      -0.010       0.001\n",
       "===================================================================================\n",
       "\"\"\""
      ]
     },
     "execution_count": 70,
     "metadata": {},
     "output_type": "execute_result"
    }
   ],
   "source": [
    "xpr_reg = np.array([ps2.age, ps2.male, ps2.yedu, ps2.hstatus, ps2.gali, ps2.bmi])\n",
    "model_probit = smf.probit('life_sat ~ income + xpr_reg.T + C(mstat) + C(otrf) + C(cjs) + C(year)', data=ps2).fit()\n",
    "model_probit.summary()\n",
    "#print(model_probit.summary().as_latex())"
   ]
  },
  {
   "cell_type": "code",
   "execution_count": 71,
   "metadata": {},
   "outputs": [
    {
     "name": "stdout",
     "output_type": "stream",
     "text": [
      "We extract coefficients, t-values and p-values\n"
     ]
    }
   ],
   "source": [
    "print('We extract coefficients, t-values and p-values')\n",
    "\n",
    "res_prob = pd.DataFrame(data=[model_probit.params, model_probit.tvalues, model_probit.pvalues]).T\n",
    "res_prob = res_prob.rename(columns = {0: 'Coeff', 1:'t', 2:'p-value'})"
   ]
  },
  {
   "cell_type": "code",
   "execution_count": 72,
   "metadata": {},
   "outputs": [],
   "source": [
    "res_prob.Coeff = res_prob.Coeff.map(lambda p: round(p, 3))\n",
    "res_prob.t = res_prob.t.map(lambda p: round(p, 3))\n",
    "res_prob['p-value'] = res_prob['p-value'].map(lambda p: round(p,3))"
   ]
  },
  {
   "cell_type": "code",
   "execution_count": null,
   "metadata": {},
   "outputs": [],
   "source": [
    "res_prob\n",
    "#print(res_prob.to_latex())  "
   ]
  },
  {
   "cell_type": "code",
   "execution_count": 73,
   "metadata": {},
   "outputs": [
    {
     "name": "stdout",
     "output_type": "stream",
     "text": [
      "The average marginal effect of the variables:\n"
     ]
    },
    {
     "data": {
      "text/html": [
       "<table class=\"simpletable\">\n",
       "<caption>Probit Marginal Effects</caption>\n",
       "<tr>\n",
       "  <th>Dep. Variable:</th> <td>life_sat</td>\n",
       "</tr>\n",
       "<tr>\n",
       "  <th>Method:</th>          <td>dydx</td>  \n",
       "</tr>\n",
       "<tr>\n",
       "  <th>At:</th>             <td>overall</td>\n",
       "</tr>\n",
       "</table>\n",
       "<table class=\"simpletable\">\n",
       "<tr>\n",
       "         <th></th>            <th>dy/dx</th>    <th>std err</th>      <th>z</th>      <th>P>|z|</th>  <th>[0.025</th>    <th>0.975]</th>  \n",
       "</tr>\n",
       "<tr>\n",
       "  <th>C(mstat)[T.2]</th>   <td>   -0.0555</td> <td>    0.035</td> <td>   -1.569</td> <td> 0.117</td> <td>   -0.125</td> <td>    0.014</td>\n",
       "</tr>\n",
       "<tr>\n",
       "  <th>C(mstat)[T.3]</th>   <td>   -0.1331</td> <td>    0.051</td> <td>   -2.605</td> <td> 0.009</td> <td>   -0.233</td> <td>   -0.033</td>\n",
       "</tr>\n",
       "<tr>\n",
       "  <th>C(mstat)[T.4]</th>   <td>   -0.1617</td> <td>    0.019</td> <td>   -8.583</td> <td> 0.000</td> <td>   -0.199</td> <td>   -0.125</td>\n",
       "</tr>\n",
       "<tr>\n",
       "  <th>C(mstat)[T.5]</th>   <td>   -0.1604</td> <td>    0.026</td> <td>   -6.108</td> <td> 0.000</td> <td>   -0.212</td> <td>   -0.109</td>\n",
       "</tr>\n",
       "<tr>\n",
       "  <th>C(mstat)[T.6]</th>   <td>   -0.1303</td> <td>    0.014</td> <td>   -9.217</td> <td> 0.000</td> <td>   -0.158</td> <td>   -0.103</td>\n",
       "</tr>\n",
       "<tr>\n",
       "  <th>C(otrf)[T.2.0]</th>  <td>   -0.1766</td> <td>    0.121</td> <td>   -1.461</td> <td> 0.144</td> <td>   -0.414</td> <td>    0.060</td>\n",
       "</tr>\n",
       "<tr>\n",
       "  <th>C(otrf)[T.3.0]</th>  <td>   -0.0928</td> <td>    0.014</td> <td>   -6.434</td> <td> 0.000</td> <td>   -0.121</td> <td>   -0.065</td>\n",
       "</tr>\n",
       "<tr>\n",
       "  <th>C(otrf)[T.4.0]</th>  <td>   -2.3964</td> <td> 2542.284</td> <td>   -0.001</td> <td> 0.999</td> <td>-4985.182</td> <td> 4980.389</td>\n",
       "</tr>\n",
       "<tr>\n",
       "  <th>C(otrf)[T.5.0]</th>  <td>   -0.0376</td> <td>    0.018</td> <td>   -2.143</td> <td> 0.032</td> <td>   -0.072</td> <td>   -0.003</td>\n",
       "</tr>\n",
       "<tr>\n",
       "  <th>C(cjs)[T.2.0]</th>   <td>   -0.0022</td> <td>    0.014</td> <td>   -0.161</td> <td> 0.872</td> <td>   -0.030</td> <td>    0.025</td>\n",
       "</tr>\n",
       "<tr>\n",
       "  <th>C(cjs)[T.3.0]</th>   <td>   -0.1888</td> <td>    0.027</td> <td>   -6.926</td> <td> 0.000</td> <td>   -0.242</td> <td>   -0.135</td>\n",
       "</tr>\n",
       "<tr>\n",
       "  <th>C(cjs)[T.4.0]</th>   <td>   -0.0985</td> <td>    0.030</td> <td>   -3.284</td> <td> 0.001</td> <td>   -0.157</td> <td>   -0.040</td>\n",
       "</tr>\n",
       "<tr>\n",
       "  <th>C(cjs)[T.5.0]</th>   <td>   -0.0570</td> <td>    0.013</td> <td>   -4.431</td> <td> 0.000</td> <td>   -0.082</td> <td>   -0.032</td>\n",
       "</tr>\n",
       "<tr>\n",
       "  <th>C(year)[T.2013]</th> <td>   -0.0365</td> <td>    0.011</td> <td>   -3.347</td> <td> 0.001</td> <td>   -0.058</td> <td>   -0.015</td>\n",
       "</tr>\n",
       "<tr>\n",
       "  <th>C(year)[T.2015]</th> <td>   -0.0094</td> <td>    0.011</td> <td>   -0.862</td> <td> 0.389</td> <td>   -0.031</td> <td>    0.012</td>\n",
       "</tr>\n",
       "<tr>\n",
       "  <th>income</th>          <td>    0.0271</td> <td>    0.010</td> <td>    2.677</td> <td> 0.007</td> <td>    0.007</td> <td>    0.047</td>\n",
       "</tr>\n",
       "<tr>\n",
       "  <th>xpr_reg.T[0]</th>    <td>    0.0028</td> <td>    0.001</td> <td>    4.549</td> <td> 0.000</td> <td>    0.002</td> <td>    0.004</td>\n",
       "</tr>\n",
       "<tr>\n",
       "  <th>xpr_reg.T[1]</th>    <td>   -0.0070</td> <td>    0.010</td> <td>   -0.705</td> <td> 0.481</td> <td>   -0.026</td> <td>    0.012</td>\n",
       "</tr>\n",
       "<tr>\n",
       "  <th>xpr_reg.T[2]</th>    <td>    0.0050</td> <td>    0.001</td> <td>    4.509</td> <td> 0.000</td> <td>    0.003</td> <td>    0.007</td>\n",
       "</tr>\n",
       "<tr>\n",
       "  <th>xpr_reg.T[3]</th>    <td>    0.1013</td> <td>    0.005</td> <td>   20.790</td> <td> 0.000</td> <td>    0.092</td> <td>    0.111</td>\n",
       "</tr>\n",
       "<tr>\n",
       "  <th>xpr_reg.T[4]</th>    <td>   -0.0624</td> <td>    0.010</td> <td>   -6.012</td> <td> 0.000</td> <td>   -0.083</td> <td>   -0.042</td>\n",
       "</tr>\n",
       "<tr>\n",
       "  <th>xpr_reg.T[5]</th>    <td>   -0.0017</td> <td>    0.001</td> <td>   -1.641</td> <td> 0.101</td> <td>   -0.004</td> <td>    0.000</td>\n",
       "</tr>\n",
       "</table>"
      ],
      "text/plain": [
       "<class 'statsmodels.iolib.summary.Summary'>\n",
       "\"\"\"\n",
       "       Probit Marginal Effects       \n",
       "=====================================\n",
       "Dep. Variable:               life_sat\n",
       "Method:                          dydx\n",
       "At:                           overall\n",
       "===================================================================================\n",
       "                     dy/dx    std err          z      P>|z|      [0.025      0.975]\n",
       "-----------------------------------------------------------------------------------\n",
       "C(mstat)[T.2]      -0.0555      0.035     -1.569      0.117      -0.125       0.014\n",
       "C(mstat)[T.3]      -0.1331      0.051     -2.605      0.009      -0.233      -0.033\n",
       "C(mstat)[T.4]      -0.1617      0.019     -8.583      0.000      -0.199      -0.125\n",
       "C(mstat)[T.5]      -0.1604      0.026     -6.108      0.000      -0.212      -0.109\n",
       "C(mstat)[T.6]      -0.1303      0.014     -9.217      0.000      -0.158      -0.103\n",
       "C(otrf)[T.2.0]     -0.1766      0.121     -1.461      0.144      -0.414       0.060\n",
       "C(otrf)[T.3.0]     -0.0928      0.014     -6.434      0.000      -0.121      -0.065\n",
       "C(otrf)[T.4.0]     -2.3964   2542.284     -0.001      0.999   -4985.182    4980.389\n",
       "C(otrf)[T.5.0]     -0.0376      0.018     -2.143      0.032      -0.072      -0.003\n",
       "C(cjs)[T.2.0]      -0.0022      0.014     -0.161      0.872      -0.030       0.025\n",
       "C(cjs)[T.3.0]      -0.1888      0.027     -6.926      0.000      -0.242      -0.135\n",
       "C(cjs)[T.4.0]      -0.0985      0.030     -3.284      0.001      -0.157      -0.040\n",
       "C(cjs)[T.5.0]      -0.0570      0.013     -4.431      0.000      -0.082      -0.032\n",
       "C(year)[T.2013]    -0.0365      0.011     -3.347      0.001      -0.058      -0.015\n",
       "C(year)[T.2015]    -0.0094      0.011     -0.862      0.389      -0.031       0.012\n",
       "income              0.0271      0.010      2.677      0.007       0.007       0.047\n",
       "xpr_reg.T[0]        0.0028      0.001      4.549      0.000       0.002       0.004\n",
       "xpr_reg.T[1]       -0.0070      0.010     -0.705      0.481      -0.026       0.012\n",
       "xpr_reg.T[2]        0.0050      0.001      4.509      0.000       0.003       0.007\n",
       "xpr_reg.T[3]        0.1013      0.005     20.790      0.000       0.092       0.111\n",
       "xpr_reg.T[4]       -0.0624      0.010     -6.012      0.000      -0.083      -0.042\n",
       "xpr_reg.T[5]       -0.0017      0.001     -1.641      0.101      -0.004       0.000\n",
       "===================================================================================\n",
       "\"\"\""
      ]
     },
     "execution_count": 73,
     "metadata": {},
     "output_type": "execute_result"
    }
   ],
   "source": [
    "print('The average marginal effect of the variables:')\n",
    "\n",
    "model_probit.get_margeff(at='overall', method='dydx').summary()"
   ]
  },
  {
   "cell_type": "code",
   "execution_count": 74,
   "metadata": {},
   "outputs": [
    {
     "name": "stdout",
     "output_type": "stream",
     "text": [
      "The classification table:\n",
      "\n",
      " [[2278. 2713.]\n",
      " [1309. 5693.]]\n"
     ]
    }
   ],
   "source": [
    "class1 = model_probit.pred_table()\n",
    "\n",
    "print('The classification table:')\n",
    "print('\\n',class1)"
   ]
  },
  {
   "cell_type": "code",
   "execution_count": 75,
   "metadata": {},
   "outputs": [
    {
     "name": "stdout",
     "output_type": "stream",
     "text": [
      "The percentage of well predicted is 66.46 % whereas the wrong predictions are the 33.54 %.\n"
     ]
    }
   ],
   "source": [
    "prob_well = round(((class1[0,0]+class1[1,1])/class1.sum())*100,2)\n",
    "prob_bad = round(((class1[0,1]+class1[1,0])/class1.sum())*100, 2)\n",
    "\n",
    "print('The percentage of well predicted is', prob_well, '% whereas the wrong predictions are the', prob_bad, '%.')"
   ]
  },
  {
   "cell_type": "code",
   "execution_count": 76,
   "metadata": {},
   "outputs": [
    {
     "name": "stdout",
     "output_type": "stream",
     "text": [
      "The probit predicts the 29.91 % of people not satisfied and the 70.09 % of people satisfied.\n"
     ]
    }
   ],
   "source": [
    "pred_zero_prob0 = round(((class1[0][0] + class1[1][0])/class1.sum())*100,2)\n",
    "pred_one_prob0 = round(((class1[0][1] + class1[1][1])/class1.sum())*100,2)\n",
    "\n",
    "print('The probit predicts the', pred_zero_prob0, '% of people not satisfied and the', pred_one_prob0, '% of people satisfied.')"
   ]
  },
  {
   "cell_type": "code",
   "execution_count": 77,
   "metadata": {},
   "outputs": [
    {
     "name": "stdout",
     "output_type": "stream",
     "text": [
      "We now add the interaction between income and time trend.\n"
     ]
    }
   ],
   "source": [
    "print('We now add the interaction between income and time trend.')"
   ]
  },
  {
   "cell_type": "code",
   "execution_count": 78,
   "metadata": {},
   "outputs": [
    {
     "name": "stdout",
     "output_type": "stream",
     "text": [
      "Warning: Maximum number of iterations has been exceeded.\n",
      "         Current function value: 0.618051\n",
      "         Iterations: 35\n"
     ]
    },
    {
     "name": "stderr",
     "output_type": "stream",
     "text": [
      "C:\\Anaconda37\\lib\\site-packages\\statsmodels\\base\\model.py:566: ConvergenceWarning: Maximum Likelihood optimization failed to converge. Check mle_retvals\n",
      "  warnings.warn(\"Maximum Likelihood optimization failed to \"\n"
     ]
    },
    {
     "data": {
      "text/html": [
       "<table class=\"simpletable\">\n",
       "<caption>Probit Regression Results</caption>\n",
       "<tr>\n",
       "  <th>Dep. Variable:</th>       <td>life_sat</td>     <th>  No. Observations:  </th>   <td> 11993</td>  \n",
       "</tr>\n",
       "<tr>\n",
       "  <th>Model:</th>                <td>Probit</td>      <th>  Df Residuals:      </th>   <td> 11968</td>  \n",
       "</tr>\n",
       "<tr>\n",
       "  <th>Method:</th>                 <td>MLE</td>       <th>  Df Model:          </th>   <td>    24</td>  \n",
       "</tr>\n",
       "<tr>\n",
       "  <th>Date:</th>            <td>Thu, 10 Nov 2022</td> <th>  Pseudo R-squ.:     </th>   <td>0.08979</td> \n",
       "</tr>\n",
       "<tr>\n",
       "  <th>Time:</th>                <td>15:28:53</td>     <th>  Log-Likelihood:    </th>  <td> -7412.3</td> \n",
       "</tr>\n",
       "<tr>\n",
       "  <th>converged:</th>             <td>False</td>      <th>  LL-Null:           </th>  <td> -8143.5</td> \n",
       "</tr>\n",
       "<tr>\n",
       "  <th>Covariance Type:</th>     <td>nonrobust</td>    <th>  LLR p-value:       </th> <td>2.196e-294</td>\n",
       "</tr>\n",
       "</table>\n",
       "<table class=\"simpletable\">\n",
       "<tr>\n",
       "             <td></td>               <th>coef</th>     <th>std err</th>      <th>z</th>      <th>P>|z|</th>  <th>[0.025</th>    <th>0.975]</th>  \n",
       "</tr>\n",
       "<tr>\n",
       "  <th>Intercept</th>              <td>   -0.8178</td> <td>    0.169</td> <td>   -4.837</td> <td> 0.000</td> <td>   -1.149</td> <td>   -0.486</td>\n",
       "</tr>\n",
       "<tr>\n",
       "  <th>C(mstat)[T.2]</th>          <td>   -0.1485</td> <td>    0.100</td> <td>   -1.480</td> <td> 0.139</td> <td>   -0.345</td> <td>    0.048</td>\n",
       "</tr>\n",
       "<tr>\n",
       "  <th>C(mstat)[T.3]</th>          <td>   -0.3497</td> <td>    0.145</td> <td>   -2.409</td> <td> 0.016</td> <td>   -0.634</td> <td>   -0.065</td>\n",
       "</tr>\n",
       "<tr>\n",
       "  <th>C(mstat)[T.4]</th>          <td>   -0.4344</td> <td>    0.054</td> <td>   -8.040</td> <td> 0.000</td> <td>   -0.540</td> <td>   -0.329</td>\n",
       "</tr>\n",
       "<tr>\n",
       "  <th>C(mstat)[T.5]</th>          <td>   -0.4312</td> <td>    0.075</td> <td>   -5.751</td> <td> 0.000</td> <td>   -0.578</td> <td>   -0.284</td>\n",
       "</tr>\n",
       "<tr>\n",
       "  <th>C(mstat)[T.6]</th>          <td>   -0.3525</td> <td>    0.041</td> <td>   -8.687</td> <td> 0.000</td> <td>   -0.432</td> <td>   -0.273</td>\n",
       "</tr>\n",
       "<tr>\n",
       "  <th>C(otrf)[T.2.0]</th>         <td>   -0.4472</td> <td>    0.342</td> <td>   -1.306</td> <td> 0.192</td> <td>   -1.118</td> <td>    0.224</td>\n",
       "</tr>\n",
       "<tr>\n",
       "  <th>C(otrf)[T.3.0]</th>         <td>   -0.2569</td> <td>    0.041</td> <td>   -6.247</td> <td> 0.000</td> <td>   -0.338</td> <td>   -0.176</td>\n",
       "</tr>\n",
       "<tr>\n",
       "  <th>C(otrf)[T.4.0]</th>         <td>   -6.4721</td> <td> 2460.455</td> <td>   -0.003</td> <td> 0.998</td> <td>-4828.875</td> <td> 4815.930</td>\n",
       "</tr>\n",
       "<tr>\n",
       "  <th>C(otrf)[T.5.0]</th>         <td>   -0.1030</td> <td>    0.050</td> <td>   -2.071</td> <td> 0.038</td> <td>   -0.201</td> <td>   -0.006</td>\n",
       "</tr>\n",
       "<tr>\n",
       "  <th>C(cjs)[T.2.0]</th>          <td>   -0.0159</td> <td>    0.040</td> <td>   -0.399</td> <td> 0.690</td> <td>   -0.094</td> <td>    0.062</td>\n",
       "</tr>\n",
       "<tr>\n",
       "  <th>C(cjs)[T.3.0]</th>          <td>   -0.5092</td> <td>    0.078</td> <td>   -6.546</td> <td> 0.000</td> <td>   -0.662</td> <td>   -0.357</td>\n",
       "</tr>\n",
       "<tr>\n",
       "  <th>C(cjs)[T.4.0]</th>          <td>   -0.2649</td> <td>    0.085</td> <td>   -3.119</td> <td> 0.002</td> <td>   -0.431</td> <td>   -0.098</td>\n",
       "</tr>\n",
       "<tr>\n",
       "  <th>C(cjs)[T.5.0]</th>          <td>   -0.1450</td> <td>    0.037</td> <td>   -3.955</td> <td> 0.000</td> <td>   -0.217</td> <td>   -0.073</td>\n",
       "</tr>\n",
       "<tr>\n",
       "  <th>C(year)[T.2013]</th>        <td>   -0.1023</td> <td>    0.038</td> <td>   -2.719</td> <td> 0.007</td> <td>   -0.176</td> <td>   -0.029</td>\n",
       "</tr>\n",
       "<tr>\n",
       "  <th>C(year)[T.2015]</th>        <td>   -0.2331</td> <td>    0.054</td> <td>   -4.330</td> <td> 0.000</td> <td>   -0.339</td> <td>   -0.128</td>\n",
       "</tr>\n",
       "<tr>\n",
       "  <th>income</th>                 <td>    0.0591</td> <td>    0.050</td> <td>    1.192</td> <td> 0.233</td> <td>   -0.038</td> <td>    0.156</td>\n",
       "</tr>\n",
       "<tr>\n",
       "  <th>income:C(year)[T.2013]</th> <td>    0.0035</td> <td>    0.060</td> <td>    0.058</td> <td> 0.954</td> <td>   -0.115</td> <td>    0.122</td>\n",
       "</tr>\n",
       "<tr>\n",
       "  <th>income:C(year)[T.2015]</th> <td>    0.9490</td> <td>    0.198</td> <td>    4.797</td> <td> 0.000</td> <td>    0.561</td> <td>    1.337</td>\n",
       "</tr>\n",
       "<tr>\n",
       "  <th>xpr_reg.T[0]</th>           <td>    0.0081</td> <td>    0.002</td> <td>    4.610</td> <td> 0.000</td> <td>    0.005</td> <td>    0.012</td>\n",
       "</tr>\n",
       "<tr>\n",
       "  <th>xpr_reg.T[1]</th>           <td>   -0.0143</td> <td>    0.028</td> <td>   -0.509</td> <td> 0.611</td> <td>   -0.070</td> <td>    0.041</td>\n",
       "</tr>\n",
       "<tr>\n",
       "  <th>xpr_reg.T[2]</th>           <td>    0.0113</td> <td>    0.003</td> <td>    3.565</td> <td> 0.000</td> <td>    0.005</td> <td>    0.018</td>\n",
       "</tr>\n",
       "<tr>\n",
       "  <th>xpr_reg.T[3]</th>           <td>    0.2866</td> <td>    0.014</td> <td>   19.777</td> <td> 0.000</td> <td>    0.258</td> <td>    0.315</td>\n",
       "</tr>\n",
       "<tr>\n",
       "  <th>xpr_reg.T[4]</th>           <td>   -0.1759</td> <td>    0.030</td> <td>   -5.949</td> <td> 0.000</td> <td>   -0.234</td> <td>   -0.118</td>\n",
       "</tr>\n",
       "<tr>\n",
       "  <th>xpr_reg.T[5]</th>           <td>   -0.0042</td> <td>    0.003</td> <td>   -1.460</td> <td> 0.144</td> <td>   -0.010</td> <td>    0.001</td>\n",
       "</tr>\n",
       "</table>"
      ],
      "text/plain": [
       "<class 'statsmodels.iolib.summary.Summary'>\n",
       "\"\"\"\n",
       "                          Probit Regression Results                           \n",
       "==============================================================================\n",
       "Dep. Variable:               life_sat   No. Observations:                11993\n",
       "Model:                         Probit   Df Residuals:                    11968\n",
       "Method:                           MLE   Df Model:                           24\n",
       "Date:                Thu, 10 Nov 2022   Pseudo R-squ.:                 0.08979\n",
       "Time:                        15:28:53   Log-Likelihood:                -7412.3\n",
       "converged:                      False   LL-Null:                       -8143.5\n",
       "Covariance Type:            nonrobust   LLR p-value:                2.196e-294\n",
       "==========================================================================================\n",
       "                             coef    std err          z      P>|z|      [0.025      0.975]\n",
       "------------------------------------------------------------------------------------------\n",
       "Intercept                 -0.8178      0.169     -4.837      0.000      -1.149      -0.486\n",
       "C(mstat)[T.2]             -0.1485      0.100     -1.480      0.139      -0.345       0.048\n",
       "C(mstat)[T.3]             -0.3497      0.145     -2.409      0.016      -0.634      -0.065\n",
       "C(mstat)[T.4]             -0.4344      0.054     -8.040      0.000      -0.540      -0.329\n",
       "C(mstat)[T.5]             -0.4312      0.075     -5.751      0.000      -0.578      -0.284\n",
       "C(mstat)[T.6]             -0.3525      0.041     -8.687      0.000      -0.432      -0.273\n",
       "C(otrf)[T.2.0]            -0.4472      0.342     -1.306      0.192      -1.118       0.224\n",
       "C(otrf)[T.3.0]            -0.2569      0.041     -6.247      0.000      -0.338      -0.176\n",
       "C(otrf)[T.4.0]            -6.4721   2460.455     -0.003      0.998   -4828.875    4815.930\n",
       "C(otrf)[T.5.0]            -0.1030      0.050     -2.071      0.038      -0.201      -0.006\n",
       "C(cjs)[T.2.0]             -0.0159      0.040     -0.399      0.690      -0.094       0.062\n",
       "C(cjs)[T.3.0]             -0.5092      0.078     -6.546      0.000      -0.662      -0.357\n",
       "C(cjs)[T.4.0]             -0.2649      0.085     -3.119      0.002      -0.431      -0.098\n",
       "C(cjs)[T.5.0]             -0.1450      0.037     -3.955      0.000      -0.217      -0.073\n",
       "C(year)[T.2013]           -0.1023      0.038     -2.719      0.007      -0.176      -0.029\n",
       "C(year)[T.2015]           -0.2331      0.054     -4.330      0.000      -0.339      -0.128\n",
       "income                     0.0591      0.050      1.192      0.233      -0.038       0.156\n",
       "income:C(year)[T.2013]     0.0035      0.060      0.058      0.954      -0.115       0.122\n",
       "income:C(year)[T.2015]     0.9490      0.198      4.797      0.000       0.561       1.337\n",
       "xpr_reg.T[0]               0.0081      0.002      4.610      0.000       0.005       0.012\n",
       "xpr_reg.T[1]              -0.0143      0.028     -0.509      0.611      -0.070       0.041\n",
       "xpr_reg.T[2]               0.0113      0.003      3.565      0.000       0.005       0.018\n",
       "xpr_reg.T[3]               0.2866      0.014     19.777      0.000       0.258       0.315\n",
       "xpr_reg.T[4]              -0.1759      0.030     -5.949      0.000      -0.234      -0.118\n",
       "xpr_reg.T[5]              -0.0042      0.003     -1.460      0.144      -0.010       0.001\n",
       "==========================================================================================\n",
       "\"\"\""
      ]
     },
     "execution_count": 78,
     "metadata": {},
     "output_type": "execute_result"
    }
   ],
   "source": [
    "model_probit2 = smf.probit('life_sat ~ income + xpr_reg.T + C(mstat) + C(otrf) + C(cjs) + C(year) + income*C(year)', data=ps2).fit()\n",
    "model_probit2.summary()\n",
    "#print(model_probit.summary().as_latex())"
   ]
  },
  {
   "cell_type": "code",
   "execution_count": 79,
   "metadata": {},
   "outputs": [
    {
     "name": "stdout",
     "output_type": "stream",
     "text": [
      "We extract coefficients, t-values and p-values\n"
     ]
    }
   ],
   "source": [
    "print('We extract coefficients, t-values and p-values')\n",
    "\n",
    "res_prob2 = pd.DataFrame(data=[model_probit2.params, model_probit2.tvalues, model_probit2.pvalues]).T\n",
    "res_prob2 = res_prob2.rename(columns = {0: 'Coeff', 1:'t', 2:'p-value'})"
   ]
  },
  {
   "cell_type": "code",
   "execution_count": 80,
   "metadata": {},
   "outputs": [],
   "source": [
    "res_prob2.Coeff = res_prob2.Coeff.map(lambda p: round(p, 3))\n",
    "res_prob2.t = res_prob2.t.map(lambda p: round(p, 3))\n",
    "res_prob2['p-value'] = res_prob2['p-value'].map(lambda p: round(p,3))"
   ]
  },
  {
   "cell_type": "code",
   "execution_count": 81,
   "metadata": {},
   "outputs": [
    {
     "data": {
      "text/html": [
       "<div>\n",
       "<style scoped>\n",
       "    .dataframe tbody tr th:only-of-type {\n",
       "        vertical-align: middle;\n",
       "    }\n",
       "\n",
       "    .dataframe tbody tr th {\n",
       "        vertical-align: top;\n",
       "    }\n",
       "\n",
       "    .dataframe thead th {\n",
       "        text-align: right;\n",
       "    }\n",
       "</style>\n",
       "<table border=\"1\" class=\"dataframe\">\n",
       "  <thead>\n",
       "    <tr style=\"text-align: right;\">\n",
       "      <th></th>\n",
       "      <th>Coeff</th>\n",
       "      <th>t</th>\n",
       "      <th>p-value</th>\n",
       "    </tr>\n",
       "  </thead>\n",
       "  <tbody>\n",
       "    <tr>\n",
       "      <th>Intercept</th>\n",
       "      <td>-0.818</td>\n",
       "      <td>-4.837</td>\n",
       "      <td>0.000</td>\n",
       "    </tr>\n",
       "    <tr>\n",
       "      <th>C(mstat)[T.2]</th>\n",
       "      <td>-0.148</td>\n",
       "      <td>-1.480</td>\n",
       "      <td>0.139</td>\n",
       "    </tr>\n",
       "    <tr>\n",
       "      <th>C(mstat)[T.3]</th>\n",
       "      <td>-0.350</td>\n",
       "      <td>-2.409</td>\n",
       "      <td>0.016</td>\n",
       "    </tr>\n",
       "    <tr>\n",
       "      <th>C(mstat)[T.4]</th>\n",
       "      <td>-0.434</td>\n",
       "      <td>-8.040</td>\n",
       "      <td>0.000</td>\n",
       "    </tr>\n",
       "    <tr>\n",
       "      <th>C(mstat)[T.5]</th>\n",
       "      <td>-0.431</td>\n",
       "      <td>-5.751</td>\n",
       "      <td>0.000</td>\n",
       "    </tr>\n",
       "    <tr>\n",
       "      <th>C(mstat)[T.6]</th>\n",
       "      <td>-0.352</td>\n",
       "      <td>-8.687</td>\n",
       "      <td>0.000</td>\n",
       "    </tr>\n",
       "    <tr>\n",
       "      <th>C(otrf)[T.2.0]</th>\n",
       "      <td>-0.447</td>\n",
       "      <td>-1.306</td>\n",
       "      <td>0.192</td>\n",
       "    </tr>\n",
       "    <tr>\n",
       "      <th>C(otrf)[T.3.0]</th>\n",
       "      <td>-0.257</td>\n",
       "      <td>-6.247</td>\n",
       "      <td>0.000</td>\n",
       "    </tr>\n",
       "    <tr>\n",
       "      <th>C(otrf)[T.4.0]</th>\n",
       "      <td>-6.472</td>\n",
       "      <td>-0.003</td>\n",
       "      <td>0.998</td>\n",
       "    </tr>\n",
       "    <tr>\n",
       "      <th>C(otrf)[T.5.0]</th>\n",
       "      <td>-0.103</td>\n",
       "      <td>-2.071</td>\n",
       "      <td>0.038</td>\n",
       "    </tr>\n",
       "    <tr>\n",
       "      <th>C(cjs)[T.2.0]</th>\n",
       "      <td>-0.016</td>\n",
       "      <td>-0.399</td>\n",
       "      <td>0.690</td>\n",
       "    </tr>\n",
       "    <tr>\n",
       "      <th>C(cjs)[T.3.0]</th>\n",
       "      <td>-0.509</td>\n",
       "      <td>-6.546</td>\n",
       "      <td>0.000</td>\n",
       "    </tr>\n",
       "    <tr>\n",
       "      <th>C(cjs)[T.4.0]</th>\n",
       "      <td>-0.265</td>\n",
       "      <td>-3.119</td>\n",
       "      <td>0.002</td>\n",
       "    </tr>\n",
       "    <tr>\n",
       "      <th>C(cjs)[T.5.0]</th>\n",
       "      <td>-0.145</td>\n",
       "      <td>-3.955</td>\n",
       "      <td>0.000</td>\n",
       "    </tr>\n",
       "    <tr>\n",
       "      <th>C(year)[T.2013]</th>\n",
       "      <td>-0.102</td>\n",
       "      <td>-2.719</td>\n",
       "      <td>0.007</td>\n",
       "    </tr>\n",
       "    <tr>\n",
       "      <th>C(year)[T.2015]</th>\n",
       "      <td>-0.233</td>\n",
       "      <td>-4.330</td>\n",
       "      <td>0.000</td>\n",
       "    </tr>\n",
       "    <tr>\n",
       "      <th>income</th>\n",
       "      <td>0.059</td>\n",
       "      <td>1.192</td>\n",
       "      <td>0.233</td>\n",
       "    </tr>\n",
       "    <tr>\n",
       "      <th>income:C(year)[T.2013]</th>\n",
       "      <td>0.004</td>\n",
       "      <td>0.058</td>\n",
       "      <td>0.954</td>\n",
       "    </tr>\n",
       "    <tr>\n",
       "      <th>income:C(year)[T.2015]</th>\n",
       "      <td>0.949</td>\n",
       "      <td>4.797</td>\n",
       "      <td>0.000</td>\n",
       "    </tr>\n",
       "    <tr>\n",
       "      <th>xpr_reg.T[0]</th>\n",
       "      <td>0.008</td>\n",
       "      <td>4.610</td>\n",
       "      <td>0.000</td>\n",
       "    </tr>\n",
       "    <tr>\n",
       "      <th>xpr_reg.T[1]</th>\n",
       "      <td>-0.014</td>\n",
       "      <td>-0.509</td>\n",
       "      <td>0.611</td>\n",
       "    </tr>\n",
       "    <tr>\n",
       "      <th>xpr_reg.T[2]</th>\n",
       "      <td>0.011</td>\n",
       "      <td>3.565</td>\n",
       "      <td>0.000</td>\n",
       "    </tr>\n",
       "    <tr>\n",
       "      <th>xpr_reg.T[3]</th>\n",
       "      <td>0.287</td>\n",
       "      <td>19.777</td>\n",
       "      <td>0.000</td>\n",
       "    </tr>\n",
       "    <tr>\n",
       "      <th>xpr_reg.T[4]</th>\n",
       "      <td>-0.176</td>\n",
       "      <td>-5.949</td>\n",
       "      <td>0.000</td>\n",
       "    </tr>\n",
       "    <tr>\n",
       "      <th>xpr_reg.T[5]</th>\n",
       "      <td>-0.004</td>\n",
       "      <td>-1.460</td>\n",
       "      <td>0.144</td>\n",
       "    </tr>\n",
       "  </tbody>\n",
       "</table>\n",
       "</div>"
      ],
      "text/plain": [
       "                        Coeff       t  p-value\n",
       "Intercept              -0.818  -4.837    0.000\n",
       "C(mstat)[T.2]          -0.148  -1.480    0.139\n",
       "C(mstat)[T.3]          -0.350  -2.409    0.016\n",
       "C(mstat)[T.4]          -0.434  -8.040    0.000\n",
       "C(mstat)[T.5]          -0.431  -5.751    0.000\n",
       "C(mstat)[T.6]          -0.352  -8.687    0.000\n",
       "C(otrf)[T.2.0]         -0.447  -1.306    0.192\n",
       "C(otrf)[T.3.0]         -0.257  -6.247    0.000\n",
       "C(otrf)[T.4.0]         -6.472  -0.003    0.998\n",
       "C(otrf)[T.5.0]         -0.103  -2.071    0.038\n",
       "C(cjs)[T.2.0]          -0.016  -0.399    0.690\n",
       "C(cjs)[T.3.0]          -0.509  -6.546    0.000\n",
       "C(cjs)[T.4.0]          -0.265  -3.119    0.002\n",
       "C(cjs)[T.5.0]          -0.145  -3.955    0.000\n",
       "C(year)[T.2013]        -0.102  -2.719    0.007\n",
       "C(year)[T.2015]        -0.233  -4.330    0.000\n",
       "income                  0.059   1.192    0.233\n",
       "income:C(year)[T.2013]  0.004   0.058    0.954\n",
       "income:C(year)[T.2015]  0.949   4.797    0.000\n",
       "xpr_reg.T[0]            0.008   4.610    0.000\n",
       "xpr_reg.T[1]           -0.014  -0.509    0.611\n",
       "xpr_reg.T[2]            0.011   3.565    0.000\n",
       "xpr_reg.T[3]            0.287  19.777    0.000\n",
       "xpr_reg.T[4]           -0.176  -5.949    0.000\n",
       "xpr_reg.T[5]           -0.004  -1.460    0.144"
      ]
     },
     "execution_count": 81,
     "metadata": {},
     "output_type": "execute_result"
    }
   ],
   "source": [
    "res_prob2\n",
    "#print(res_prob2.to_latex())  "
   ]
  },
  {
   "cell_type": "code",
   "execution_count": 82,
   "metadata": {},
   "outputs": [
    {
     "name": "stdout",
     "output_type": "stream",
     "text": [
      "<F test: F=array([[0.28069495]]), p=0.5962559090859109, df_denom=1.2e+04, df_num=1> \n",
      "\n",
      "Given the test, we do not reject the null hypothesis that the estimates of income are equal between 2011 and 2013\n"
     ]
    }
   ],
   "source": [
    "t1 = (np.array([[0,0,0,0,0,0,0,0,0,0,0,0,0,0,0,0,1,-1,0,0,0,0,0,0,0]]), [0])\n",
    "\n",
    "print(model_probit2.f_test(t1), '\\n')\n",
    "print('Given the test, we do not reject the null hypothesis that the estimates of income are equal between 2011 and 2013')"
   ]
  },
  {
   "cell_type": "code",
   "execution_count": 83,
   "metadata": {},
   "outputs": [
    {
     "name": "stdout",
     "output_type": "stream",
     "text": [
      "<F test: F=array([[17.2043468]]), p=3.379851725480527e-05, df_denom=1.2e+04, df_num=1> \n",
      "\n",
      "Given the test, we reject the null hypothesis that the estimates of income are equal between 2011 and 2015\n"
     ]
    }
   ],
   "source": [
    "t2 = (np.array([[0,0,0,0,0,0,0,0,0,0,0,0,0,0,0,0,1,0,-1,0,0,0,0,0,0]]), [0])\n",
    "\n",
    "print(model_probit2.f_test(t2), '\\n')\n",
    "print('Given the test, we reject the null hypothesis that the estimates of income are equal between 2011 and 2015')"
   ]
  },
  {
   "cell_type": "code",
   "execution_count": 84,
   "metadata": {},
   "outputs": [
    {
     "name": "stdout",
     "output_type": "stream",
     "text": [
      "<F test: F=array([[23.57342707]]), p=1.2175640448325868e-06, df_denom=1.2e+04, df_num=1> \n",
      "\n",
      "Given the test, we reject the null hypothesis that the estimates of income are equal between 2013 and 2015\n"
     ]
    }
   ],
   "source": [
    "t3 = (np.array([[0,0,0,0,0,0,0,0,0,0,0,0,0,0,0,0,0,1,-1,0,0,0,0,0,0]]), [0])\n",
    "\n",
    "print(model_probit2.f_test(t3), '\\n')\n",
    "print('Given the test, we reject the null hypothesis that the estimates of income are equal between 2013 and 2015')"
   ]
  },
  {
   "cell_type": "code",
   "execution_count": 85,
   "metadata": {},
   "outputs": [
    {
     "name": "stdout",
     "output_type": "stream",
     "text": [
      "The average marginal effects of the variables are:\n"
     ]
    },
    {
     "data": {
      "text/html": [
       "<table class=\"simpletable\">\n",
       "<caption>Probit Marginal Effects</caption>\n",
       "<tr>\n",
       "  <th>Dep. Variable:</th> <td>life_sat</td>\n",
       "</tr>\n",
       "<tr>\n",
       "  <th>Method:</th>          <td>dydx</td>  \n",
       "</tr>\n",
       "<tr>\n",
       "  <th>At:</th>             <td>overall</td>\n",
       "</tr>\n",
       "</table>\n",
       "<table class=\"simpletable\">\n",
       "<tr>\n",
       "             <th></th>               <th>dy/dx</th>    <th>std err</th>      <th>z</th>      <th>P>|z|</th>  <th>[0.025</th>    <th>0.975]</th>  \n",
       "</tr>\n",
       "<tr>\n",
       "  <th>C(mstat)[T.2]</th>          <td>   -0.0523</td> <td>    0.035</td> <td>   -1.480</td> <td> 0.139</td> <td>   -0.122</td> <td>    0.017</td>\n",
       "</tr>\n",
       "<tr>\n",
       "  <th>C(mstat)[T.3]</th>          <td>   -0.1233</td> <td>    0.051</td> <td>   -2.411</td> <td> 0.016</td> <td>   -0.224</td> <td>   -0.023</td>\n",
       "</tr>\n",
       "<tr>\n",
       "  <th>C(mstat)[T.4]</th>          <td>   -0.1532</td> <td>    0.019</td> <td>   -8.105</td> <td> 0.000</td> <td>   -0.190</td> <td>   -0.116</td>\n",
       "</tr>\n",
       "<tr>\n",
       "  <th>C(mstat)[T.5]</th>          <td>   -0.1520</td> <td>    0.026</td> <td>   -5.774</td> <td> 0.000</td> <td>   -0.204</td> <td>   -0.100</td>\n",
       "</tr>\n",
       "<tr>\n",
       "  <th>C(mstat)[T.6]</th>          <td>   -0.1243</td> <td>    0.014</td> <td>   -8.769</td> <td> 0.000</td> <td>   -0.152</td> <td>   -0.096</td>\n",
       "</tr>\n",
       "<tr>\n",
       "  <th>C(otrf)[T.2.0]</th>         <td>   -0.1577</td> <td>    0.121</td> <td>   -1.306</td> <td> 0.191</td> <td>   -0.394</td> <td>    0.079</td>\n",
       "</tr>\n",
       "<tr>\n",
       "  <th>C(otrf)[T.3.0]</th>         <td>   -0.0906</td> <td>    0.014</td> <td>   -6.277</td> <td> 0.000</td> <td>   -0.119</td> <td>   -0.062</td>\n",
       "</tr>\n",
       "<tr>\n",
       "  <th>C(otrf)[T.4.0]</th>         <td>   -2.2819</td> <td>  867.495</td> <td>   -0.003</td> <td> 0.998</td> <td>-1702.541</td> <td> 1697.978</td>\n",
       "</tr>\n",
       "<tr>\n",
       "  <th>C(otrf)[T.5.0]</th>         <td>   -0.0363</td> <td>    0.018</td> <td>   -2.072</td> <td> 0.038</td> <td>   -0.071</td> <td>   -0.002</td>\n",
       "</tr>\n",
       "<tr>\n",
       "  <th>C(cjs)[T.2.0]</th>          <td>   -0.0056</td> <td>    0.014</td> <td>   -0.399</td> <td> 0.690</td> <td>   -0.033</td> <td>    0.022</td>\n",
       "</tr>\n",
       "<tr>\n",
       "  <th>C(cjs)[T.3.0]</th>          <td>   -0.1795</td> <td>    0.027</td> <td>   -6.581</td> <td> 0.000</td> <td>   -0.233</td> <td>   -0.126</td>\n",
       "</tr>\n",
       "<tr>\n",
       "  <th>C(cjs)[T.4.0]</th>          <td>   -0.0934</td> <td>    0.030</td> <td>   -3.123</td> <td> 0.002</td> <td>   -0.152</td> <td>   -0.035</td>\n",
       "</tr>\n",
       "<tr>\n",
       "  <th>C(cjs)[T.5.0]</th>          <td>   -0.0511</td> <td>    0.013</td> <td>   -3.963</td> <td> 0.000</td> <td>   -0.076</td> <td>   -0.026</td>\n",
       "</tr>\n",
       "<tr>\n",
       "  <th>C(year)[T.2013]</th>        <td>   -0.0361</td> <td>    0.013</td> <td>   -2.721</td> <td> 0.007</td> <td>   -0.062</td> <td>   -0.010</td>\n",
       "</tr>\n",
       "<tr>\n",
       "  <th>C(year)[T.2015]</th>        <td>   -0.0822</td> <td>    0.019</td> <td>   -4.339</td> <td> 0.000</td> <td>   -0.119</td> <td>   -0.045</td>\n",
       "</tr>\n",
       "<tr>\n",
       "  <th>income</th>                 <td>    0.0208</td> <td>    0.017</td> <td>    1.193</td> <td> 0.233</td> <td>   -0.013</td> <td>    0.055</td>\n",
       "</tr>\n",
       "<tr>\n",
       "  <th>income:C(year)[T.2013]</th> <td>    0.0012</td> <td>    0.021</td> <td>    0.058</td> <td> 0.954</td> <td>   -0.041</td> <td>    0.043</td>\n",
       "</tr>\n",
       "<tr>\n",
       "  <th>income:C(year)[T.2015]</th> <td>    0.3346</td> <td>    0.070</td> <td>    4.809</td> <td> 0.000</td> <td>    0.198</td> <td>    0.471</td>\n",
       "</tr>\n",
       "<tr>\n",
       "  <th>xpr_reg.T[0]</th>           <td>    0.0028</td> <td>    0.001</td> <td>    4.621</td> <td> 0.000</td> <td>    0.002</td> <td>    0.004</td>\n",
       "</tr>\n",
       "<tr>\n",
       "  <th>xpr_reg.T[1]</th>           <td>   -0.0051</td> <td>    0.010</td> <td>   -0.509</td> <td> 0.611</td> <td>   -0.025</td> <td>    0.014</td>\n",
       "</tr>\n",
       "<tr>\n",
       "  <th>xpr_reg.T[2]</th>           <td>    0.0040</td> <td>    0.001</td> <td>    3.570</td> <td> 0.000</td> <td>    0.002</td> <td>    0.006</td>\n",
       "</tr>\n",
       "<tr>\n",
       "  <th>xpr_reg.T[3]</th>           <td>    0.1010</td> <td>    0.005</td> <td>   20.766</td> <td> 0.000</td> <td>    0.092</td> <td>    0.111</td>\n",
       "</tr>\n",
       "<tr>\n",
       "  <th>xpr_reg.T[4]</th>           <td>   -0.0620</td> <td>    0.010</td> <td>   -5.976</td> <td> 0.000</td> <td>   -0.082</td> <td>   -0.042</td>\n",
       "</tr>\n",
       "<tr>\n",
       "  <th>xpr_reg.T[5]</th>           <td>   -0.0015</td> <td>    0.001</td> <td>   -1.460</td> <td> 0.144</td> <td>   -0.003</td> <td>    0.001</td>\n",
       "</tr>\n",
       "</table>"
      ],
      "text/plain": [
       "<class 'statsmodels.iolib.summary.Summary'>\n",
       "\"\"\"\n",
       "       Probit Marginal Effects       \n",
       "=====================================\n",
       "Dep. Variable:               life_sat\n",
       "Method:                          dydx\n",
       "At:                           overall\n",
       "==========================================================================================\n",
       "                            dy/dx    std err          z      P>|z|      [0.025      0.975]\n",
       "------------------------------------------------------------------------------------------\n",
       "C(mstat)[T.2]             -0.0523      0.035     -1.480      0.139      -0.122       0.017\n",
       "C(mstat)[T.3]             -0.1233      0.051     -2.411      0.016      -0.224      -0.023\n",
       "C(mstat)[T.4]             -0.1532      0.019     -8.105      0.000      -0.190      -0.116\n",
       "C(mstat)[T.5]             -0.1520      0.026     -5.774      0.000      -0.204      -0.100\n",
       "C(mstat)[T.6]             -0.1243      0.014     -8.769      0.000      -0.152      -0.096\n",
       "C(otrf)[T.2.0]            -0.1577      0.121     -1.306      0.191      -0.394       0.079\n",
       "C(otrf)[T.3.0]            -0.0906      0.014     -6.277      0.000      -0.119      -0.062\n",
       "C(otrf)[T.4.0]            -2.2819    867.495     -0.003      0.998   -1702.541    1697.978\n",
       "C(otrf)[T.5.0]            -0.0363      0.018     -2.072      0.038      -0.071      -0.002\n",
       "C(cjs)[T.2.0]             -0.0056      0.014     -0.399      0.690      -0.033       0.022\n",
       "C(cjs)[T.3.0]             -0.1795      0.027     -6.581      0.000      -0.233      -0.126\n",
       "C(cjs)[T.4.0]             -0.0934      0.030     -3.123      0.002      -0.152      -0.035\n",
       "C(cjs)[T.5.0]             -0.0511      0.013     -3.963      0.000      -0.076      -0.026\n",
       "C(year)[T.2013]           -0.0361      0.013     -2.721      0.007      -0.062      -0.010\n",
       "C(year)[T.2015]           -0.0822      0.019     -4.339      0.000      -0.119      -0.045\n",
       "income                     0.0208      0.017      1.193      0.233      -0.013       0.055\n",
       "income:C(year)[T.2013]     0.0012      0.021      0.058      0.954      -0.041       0.043\n",
       "income:C(year)[T.2015]     0.3346      0.070      4.809      0.000       0.198       0.471\n",
       "xpr_reg.T[0]               0.0028      0.001      4.621      0.000       0.002       0.004\n",
       "xpr_reg.T[1]              -0.0051      0.010     -0.509      0.611      -0.025       0.014\n",
       "xpr_reg.T[2]               0.0040      0.001      3.570      0.000       0.002       0.006\n",
       "xpr_reg.T[3]               0.1010      0.005     20.766      0.000       0.092       0.111\n",
       "xpr_reg.T[4]              -0.0620      0.010     -5.976      0.000      -0.082      -0.042\n",
       "xpr_reg.T[5]              -0.0015      0.001     -1.460      0.144      -0.003       0.001\n",
       "==========================================================================================\n",
       "\"\"\""
      ]
     },
     "execution_count": 85,
     "metadata": {},
     "output_type": "execute_result"
    }
   ],
   "source": [
    "print('The average marginal effects of the variables are:')\n",
    "\n",
    "model_probit2.get_margeff(at='overall', method='dydx').summary()"
   ]
  },
  {
   "cell_type": "code",
   "execution_count": 86,
   "metadata": {},
   "outputs": [
    {
     "name": "stdout",
     "output_type": "stream",
     "text": [
      "The classification table:\n",
      "\n",
      " [[2305. 2686.]\n",
      " [1348. 5654.]]\n"
     ]
    }
   ],
   "source": [
    "class2 = model_probit2.pred_table()\n",
    "\n",
    "print('The classification table:')\n",
    "print('\\n',class2)"
   ]
  },
  {
   "cell_type": "code",
   "execution_count": 87,
   "metadata": {},
   "outputs": [
    {
     "name": "stdout",
     "output_type": "stream",
     "text": [
      "The percentage of well predicted is 66.36 % whereas the wrong predictions are the 33.64 %.\n"
     ]
    }
   ],
   "source": [
    "prob_well2 = round(((class2[0,0]+class2[1,1])/class2.sum())*100,2)\n",
    "prob_bad2 = round(((class2[0,1]+class2[1,0])/class2.sum())*100, 2)\n",
    "\n",
    "print('The percentage of well predicted is', prob_well2, '% whereas the wrong predictions are the', prob_bad2, '%.')"
   ]
  },
  {
   "cell_type": "code",
   "execution_count": 88,
   "metadata": {
    "scrolled": true
   },
   "outputs": [
    {
     "name": "stdout",
     "output_type": "stream",
     "text": [
      "The probit with the interaction between income and years predicts the 30.46 % of people not satisifed \n",
      "and the 69.54 % of people satisfied.\n",
      "\n",
      "However, our dataset included 41.62 % of people not satisfied and 58.38 % satisfied.\n"
     ]
    }
   ],
   "source": [
    "pred_zero_prob = round(((class2[0][0] + class2[1][0])/class2.sum())*100,2)\n",
    "pred_one_prob = round(((class2[0][1] + class2[1][1])/class2.sum())*100,2)\n",
    "\n",
    "print('The probit with the interaction between income and years predicts the', pred_zero_prob, '% of people not satisifed \\nand the', pred_one_prob , '% of people satisfied.')\n",
    "print('\\nHowever, our dataset included', pct_zero, '% of people not satisfied and', pct_one, '% satisfied.')"
   ]
  },
  {
   "cell_type": "code",
   "execution_count": null,
   "metadata": {},
   "outputs": [],
   "source": []
  }
 ],
 "metadata": {
  "kernelspec": {
   "display_name": "Python 3",
   "language": "python",
   "name": "python3"
  },
  "language_info": {
   "codemirror_mode": {
    "name": "ipython",
    "version": 3
   },
   "file_extension": ".py",
   "mimetype": "text/x-python",
   "name": "python",
   "nbconvert_exporter": "python",
   "pygments_lexer": "ipython3",
   "version": "3.8.5"
  }
 },
 "nbformat": 4,
 "nbformat_minor": 4
}
